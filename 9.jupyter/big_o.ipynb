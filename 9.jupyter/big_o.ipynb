{
 "cells": [
  {
   "cell_type": "code",
   "execution_count": 13,
   "id": "cce0821c",
   "metadata": {},
   "outputs": [],
   "source": [
    "##### there are different procedures of solving the same problem\n",
    "##### for example: sum1 & sum2\n",
    "##### We know sum2 is way more efficient than sum1, but what if they are run in different computers?\n",
    "##### We don't want to compare hardware efficiency, we want to compare algorithm efficiency, so time is\n",
    "##### not a good measure for that. We need Big-O notation: Objective & hardware  -independent\n",
    "\n",
    "def sum1(n):\n",
    "    final_sum = 0\n",
    "    \n",
    "    for x in range(n+1):\n",
    "        final_sum += x\n",
    "        \n",
    "    return (final_sum)"
   ]
  },
  {
   "cell_type": "code",
   "execution_count": 23,
   "id": "a4b4b5d7",
   "metadata": {},
   "outputs": [
    {
     "name": "stdout",
     "output_type": "stream",
     "text": [
      "7.54 µs ± 842 ns per loop (mean ± std. dev. of 7 runs, 100,000 loops each)\n"
     ]
    }
   ],
   "source": [
    "%timeit sum1(100)     ### micro-seconds"
   ]
  },
  {
   "cell_type": "code",
   "execution_count": 18,
   "id": "0e708041",
   "metadata": {},
   "outputs": [],
   "source": [
    "def sum2(n):\n",
    "    return n * (n+1) / 2"
   ]
  },
  {
   "cell_type": "code",
   "execution_count": 24,
   "id": "78efed00",
   "metadata": {},
   "outputs": [
    {
     "name": "stdout",
     "output_type": "stream",
     "text": [
      "209 ns ± 13.5 ns per loop (mean ± std. dev. of 7 runs, 1,000,000 loops each)\n"
     ]
    }
   ],
   "source": [
    "%timeit sum2(100)    ### nano-seconds"
   ]
  },
  {
   "cell_type": "code",
   "execution_count": null,
   "id": "093f52b9",
   "metadata": {},
   "outputs": [],
   "source": []
  }
 ],
 "metadata": {
  "kernelspec": {
   "display_name": "Python 3 (ipykernel)",
   "language": "python",
   "name": "python3"
  },
  "language_info": {
   "codemirror_mode": {
    "name": "ipython",
    "version": 3
   },
   "file_extension": ".py",
   "mimetype": "text/x-python",
   "name": "python",
   "nbconvert_exporter": "python",
   "pygments_lexer": "ipython3",
   "version": "3.9.15"
  }
 },
 "nbformat": 4,
 "nbformat_minor": 5
}
