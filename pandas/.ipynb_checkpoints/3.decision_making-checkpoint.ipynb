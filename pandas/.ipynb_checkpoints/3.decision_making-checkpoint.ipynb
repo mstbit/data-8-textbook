{
 "cells": [
  {
   "cell_type": "markdown",
   "id": "d8970dc6-6bd3-4965-973a-084bb76e5852",
   "metadata": {},
   "source": [
    "## Conditional Statement"
   ]
  },
  {
   "cell_type": "code",
   "execution_count": 14,
   "id": "bfffc383-637c-4c07-97c1-ee7595d65abc",
   "metadata": {},
   "outputs": [],
   "source": [
    "### import modules\n",
    "import numpy as np\n",
    "import pandas as pd"
   ]
  },
  {
   "cell_type": "code",
   "execution_count": 15,
   "id": "261df46b-19f7-4881-8973-3ffc280700e8",
   "metadata": {},
   "outputs": [
    {
     "data": {
      "text/plain": [
       "array([[47, 42, 26],\n",
       "       [32, 39, 15]])"
      ]
     },
     "execution_count": 15,
     "metadata": {},
     "output_type": "execute_result"
    }
   ],
   "source": [
    "np.random.randint( 10, 50, size=(2,3) )"
   ]
  },
  {
   "cell_type": "code",
   "execution_count": 16,
   "id": "059dc6aa-dd53-45fe-aaec-84163e818b8b",
   "metadata": {},
   "outputs": [
    {
     "name": "stdout",
     "output_type": "stream",
     "text": [
      "[[28 42 29]\n",
      " [14 34 27]]\n"
     ]
    }
   ],
   "source": [
    "arr = np.random.randint( 10, 50, size=(2,3) )\n",
    "print(arr)"
   ]
  },
  {
   "cell_type": "code",
   "execution_count": 17,
   "id": "ec9d76ea-7f85-4f29-ad04-e03df68b96e8",
   "metadata": {},
   "outputs": [
    {
     "data": {
      "text/html": [
       "<div>\n",
       "<style scoped>\n",
       "    .dataframe tbody tr th:only-of-type {\n",
       "        vertical-align: middle;\n",
       "    }\n",
       "\n",
       "    .dataframe tbody tr th {\n",
       "        vertical-align: top;\n",
       "    }\n",
       "\n",
       "    .dataframe thead th {\n",
       "        text-align: right;\n",
       "    }\n",
       "</style>\n",
       "<table border=\"1\" class=\"dataframe\">\n",
       "  <thead>\n",
       "    <tr style=\"text-align: right;\">\n",
       "      <th></th>\n",
       "      <th>C</th>\n",
       "      <th>D</th>\n",
       "      <th>E</th>\n",
       "    </tr>\n",
       "  </thead>\n",
       "  <tbody>\n",
       "    <tr>\n",
       "      <th>A</th>\n",
       "      <td>28</td>\n",
       "      <td>42</td>\n",
       "      <td>29</td>\n",
       "    </tr>\n",
       "    <tr>\n",
       "      <th>B</th>\n",
       "      <td>14</td>\n",
       "      <td>34</td>\n",
       "      <td>27</td>\n",
       "    </tr>\n",
       "  </tbody>\n",
       "</table>\n",
       "</div>"
      ],
      "text/plain": [
       "    C   D   E\n",
       "A  28  42  29\n",
       "B  14  34  27"
      ]
     },
     "execution_count": 17,
     "metadata": {},
     "output_type": "execute_result"
    }
   ],
   "source": [
    "### set up dataframe\n",
    "df = pd.DataFrame(arr, ['A', 'B'], ['C', 'D', 'E'])\n",
    "df\n",
    "# print(df)"
   ]
  },
  {
   "cell_type": "code",
   "execution_count": 18,
   "id": "b1cc6823-099b-48f2-ad93-52c1bf72223f",
   "metadata": {},
   "outputs": [
    {
     "name": "stdout",
     "output_type": "stream",
     "text": [
      "Show greater than 30\n",
      "        C     D      E\n",
      "A  False  True  False\n",
      "B  False  True  False \n",
      "\n",
      "Show greater than 30\n",
      "        C     D      E\n",
      "A  False  True  False\n",
      "B  False  True  False\n"
     ]
    }
   ],
   "source": [
    "### conditional\n",
    "print(\"Show greater than 30\\n\", df > 30, '\\n')\n",
    "print(\"Show greater than 30\\n\", df.gt(30))     ### le, ge, le, eq, ne"
   ]
  },
  {
   "cell_type": "code",
   "execution_count": 19,
   "id": "c8bf254c-61a0-45de-b4c4-3e076a883827",
   "metadata": {},
   "outputs": [
    {
     "data": {
      "text/html": [
       "<div>\n",
       "<style scoped>\n",
       "    .dataframe tbody tr th:only-of-type {\n",
       "        vertical-align: middle;\n",
       "    }\n",
       "\n",
       "    .dataframe tbody tr th {\n",
       "        vertical-align: top;\n",
       "    }\n",
       "\n",
       "    .dataframe thead th {\n",
       "        text-align: right;\n",
       "    }\n",
       "</style>\n",
       "<table border=\"1\" class=\"dataframe\">\n",
       "  <thead>\n",
       "    <tr style=\"text-align: right;\">\n",
       "      <th></th>\n",
       "      <th>C</th>\n",
       "      <th>D</th>\n",
       "      <th>E</th>\n",
       "    </tr>\n",
       "  </thead>\n",
       "  <tbody>\n",
       "    <tr>\n",
       "      <th>A</th>\n",
       "      <td>NaN</td>\n",
       "      <td>42</td>\n",
       "      <td>NaN</td>\n",
       "    </tr>\n",
       "    <tr>\n",
       "      <th>B</th>\n",
       "      <td>NaN</td>\n",
       "      <td>34</td>\n",
       "      <td>NaN</td>\n",
       "    </tr>\n",
       "  </tbody>\n",
       "</table>\n",
       "</div>"
      ],
      "text/plain": [
       "    C   D   E\n",
       "A NaN  42 NaN\n",
       "B NaN  34 NaN"
      ]
     },
     "execution_count": 19,
     "metadata": {},
     "output_type": "execute_result"
    }
   ],
   "source": [
    "bool = df >= 30\n",
    "df[bool]\n"
   ]
  },
  {
   "cell_type": "code",
   "execution_count": 20,
   "id": "6a9f912a-3bb4-4c6c-a1a2-27b09a01aa40",
   "metadata": {},
   "outputs": [
    {
     "name": "stdout",
     "output_type": "stream",
     "text": [
      "A    False\n",
      "B    False\n",
      "Name: E, dtype: bool\n"
     ]
    }
   ],
   "source": [
    "df['E']\n",
    "print(df['E'] > 30)"
   ]
  },
  {
   "cell_type": "code",
   "execution_count": 21,
   "id": "fd41a1d5-66d8-4da3-a5a7-dd69b6fb84cc",
   "metadata": {},
   "outputs": [
    {
     "name": "stdout",
     "output_type": "stream",
     "text": [
      "    C   D   E\n",
      "A  28  42  29\n",
      "B  14  34  27 \n",
      "\n"
     ]
    },
    {
     "data": {
      "text/html": [
       "<div>\n",
       "<style scoped>\n",
       "    .dataframe tbody tr th:only-of-type {\n",
       "        vertical-align: middle;\n",
       "    }\n",
       "\n",
       "    .dataframe tbody tr th {\n",
       "        vertical-align: top;\n",
       "    }\n",
       "\n",
       "    .dataframe thead th {\n",
       "        text-align: right;\n",
       "    }\n",
       "</style>\n",
       "<table border=\"1\" class=\"dataframe\">\n",
       "  <thead>\n",
       "    <tr style=\"text-align: right;\">\n",
       "      <th></th>\n",
       "      <th>C</th>\n",
       "      <th>D</th>\n",
       "      <th>E</th>\n",
       "    </tr>\n",
       "  </thead>\n",
       "  <tbody>\n",
       "  </tbody>\n",
       "</table>\n",
       "</div>"
      ],
      "text/plain": [
       "Empty DataFrame\n",
       "Columns: [C, D, E]\n",
       "Index: []"
      ]
     },
     "execution_count": 21,
     "metadata": {},
     "output_type": "execute_result"
    }
   ],
   "source": [
    "print(df, '\\n')\n",
    "df[df['E'] > 30 ]"
   ]
  },
  {
   "cell_type": "code",
   "execution_count": 22,
   "id": "bdd5b2ac-3f70-4510-9b7f-24d60fcb1039",
   "metadata": {},
   "outputs": [
    {
     "data": {
      "text/plain": [
       "Series([], Name: C, dtype: int64)"
      ]
     },
     "execution_count": 22,
     "metadata": {},
     "output_type": "execute_result"
    }
   ],
   "source": [
    "df_2 = df[df['E'] > 30 ]\n",
    "df_2['C']"
   ]
  },
  {
   "cell_type": "code",
   "execution_count": 23,
   "id": "313a389f-407a-4a31-858f-4f32576c6f9e",
   "metadata": {},
   "outputs": [
    {
     "data": {
      "text/html": [
       "<div>\n",
       "<style scoped>\n",
       "    .dataframe tbody tr th:only-of-type {\n",
       "        vertical-align: middle;\n",
       "    }\n",
       "\n",
       "    .dataframe tbody tr th {\n",
       "        vertical-align: top;\n",
       "    }\n",
       "\n",
       "    .dataframe thead th {\n",
       "        text-align: right;\n",
       "    }\n",
       "</style>\n",
       "<table border=\"1\" class=\"dataframe\">\n",
       "  <thead>\n",
       "    <tr style=\"text-align: right;\">\n",
       "      <th></th>\n",
       "      <th>A</th>\n",
       "      <th>B</th>\n",
       "      <th>C</th>\n",
       "      <th>D</th>\n",
       "    </tr>\n",
       "  </thead>\n",
       "  <tbody>\n",
       "    <tr>\n",
       "      <th>2023-01-01</th>\n",
       "      <td>1.264312</td>\n",
       "      <td>-0.204378</td>\n",
       "      <td>1.071795</td>\n",
       "      <td>0.207472</td>\n",
       "    </tr>\n",
       "    <tr>\n",
       "      <th>2023-01-02</th>\n",
       "      <td>-1.107431</td>\n",
       "      <td>-0.144763</td>\n",
       "      <td>0.371513</td>\n",
       "      <td>0.702322</td>\n",
       "    </tr>\n",
       "    <tr>\n",
       "      <th>2023-01-03</th>\n",
       "      <td>0.228157</td>\n",
       "      <td>-0.045640</td>\n",
       "      <td>0.952287</td>\n",
       "      <td>0.358318</td>\n",
       "    </tr>\n",
       "    <tr>\n",
       "      <th>2023-01-04</th>\n",
       "      <td>0.252755</td>\n",
       "      <td>-0.285835</td>\n",
       "      <td>1.699257</td>\n",
       "      <td>-0.168782</td>\n",
       "    </tr>\n",
       "    <tr>\n",
       "      <th>2023-01-05</th>\n",
       "      <td>-0.428454</td>\n",
       "      <td>0.610120</td>\n",
       "      <td>0.159778</td>\n",
       "      <td>-1.106159</td>\n",
       "    </tr>\n",
       "    <tr>\n",
       "      <th>2023-01-06</th>\n",
       "      <td>-0.043981</td>\n",
       "      <td>-1.549413</td>\n",
       "      <td>0.037325</td>\n",
       "      <td>0.075119</td>\n",
       "    </tr>\n",
       "  </tbody>\n",
       "</table>\n",
       "</div>"
      ],
      "text/plain": [
       "                   A         B         C         D\n",
       "2023-01-01  1.264312 -0.204378  1.071795  0.207472\n",
       "2023-01-02 -1.107431 -0.144763  0.371513  0.702322\n",
       "2023-01-03  0.228157 -0.045640  0.952287  0.358318\n",
       "2023-01-04  0.252755 -0.285835  1.699257 -0.168782\n",
       "2023-01-05 -0.428454  0.610120  0.159778 -1.106159\n",
       "2023-01-06 -0.043981 -1.549413  0.037325  0.075119"
      ]
     },
     "execution_count": 23,
     "metadata": {},
     "output_type": "execute_result"
    }
   ],
   "source": [
    "dates = pd.date_range(\"20230101\", periods=6)\n",
    "df = pd.DataFrame(np.random.randn(6, 4), index=dates, columns=list(\"ABCD\"))\n",
    "df"
   ]
  },
  {
   "cell_type": "code",
   "execution_count": 24,
   "id": "f8b624b9-3905-4f35-b12d-48bc8b1ac284",
   "metadata": {},
   "outputs": [
    {
     "data": {
      "text/html": [
       "<div>\n",
       "<style scoped>\n",
       "    .dataframe tbody tr th:only-of-type {\n",
       "        vertical-align: middle;\n",
       "    }\n",
       "\n",
       "    .dataframe tbody tr th {\n",
       "        vertical-align: top;\n",
       "    }\n",
       "\n",
       "    .dataframe thead th {\n",
       "        text-align: right;\n",
       "    }\n",
       "</style>\n",
       "<table border=\"1\" class=\"dataframe\">\n",
       "  <thead>\n",
       "    <tr style=\"text-align: right;\">\n",
       "      <th></th>\n",
       "      <th>1</th>\n",
       "      <th>2</th>\n",
       "      <th>3</th>\n",
       "      <th>4</th>\n",
       "      <th>5</th>\n",
       "      <th>6</th>\n",
       "    </tr>\n",
       "  </thead>\n",
       "  <tbody>\n",
       "    <tr>\n",
       "      <th>Jay</th>\n",
       "      <td>77</td>\n",
       "      <td>99</td>\n",
       "      <td>66</td>\n",
       "      <td>64</td>\n",
       "      <td>3</td>\n",
       "      <td>38</td>\n",
       "    </tr>\n",
       "    <tr>\n",
       "      <th>Riley</th>\n",
       "      <td>59</td>\n",
       "      <td>56</td>\n",
       "      <td>36</td>\n",
       "      <td>91</td>\n",
       "      <td>24</td>\n",
       "      <td>35</td>\n",
       "    </tr>\n",
       "    <tr>\n",
       "      <th>Sayok</th>\n",
       "      <td>84</td>\n",
       "      <td>46</td>\n",
       "      <td>56</td>\n",
       "      <td>85</td>\n",
       "      <td>36</td>\n",
       "      <td>35</td>\n",
       "    </tr>\n",
       "    <tr>\n",
       "      <th>Jake</th>\n",
       "      <td>58</td>\n",
       "      <td>15</td>\n",
       "      <td>25</td>\n",
       "      <td>14</td>\n",
       "      <td>4</td>\n",
       "      <td>11</td>\n",
       "    </tr>\n",
       "  </tbody>\n",
       "</table>\n",
       "</div>"
      ],
      "text/plain": [
       "        1   2   3   4   5   6\n",
       "Jay    77  99  66  64   3  38\n",
       "Riley  59  56  36  91  24  35\n",
       "Sayok  84  46  56  85  36  35\n",
       "Jake   58  15  25  14   4  11"
      ]
     },
     "execution_count": 24,
     "metadata": {},
     "output_type": "execute_result"
    }
   ],
   "source": [
    "# quiz scores with index and columns\n",
    "df = pd.DataFrame(np.random.randint(0, 100, size=(4, 6)), \n",
    "                  index=[\"Jay\", \"Riley\", \"Sayok\", \"Jake\"], \n",
    "                  columns=[1, 2,3,4,5,6])\n",
    "df\n",
    "# df = pd.DataFrame(np.random.randn(0, 10, size=(4, 6)))\n",
    "# df"
   ]
  },
  {
   "cell_type": "code",
   "execution_count": 25,
   "id": "4fb0d68f-a57a-421c-bab7-e240ce2fda9f",
   "metadata": {},
   "outputs": [
    {
     "data": {
      "text/html": [
       "<div>\n",
       "<style scoped>\n",
       "    .dataframe tbody tr th:only-of-type {\n",
       "        vertical-align: middle;\n",
       "    }\n",
       "\n",
       "    .dataframe tbody tr th {\n",
       "        vertical-align: top;\n",
       "    }\n",
       "\n",
       "    .dataframe thead th {\n",
       "        text-align: right;\n",
       "    }\n",
       "</style>\n",
       "<table border=\"1\" class=\"dataframe\">\n",
       "  <thead>\n",
       "    <tr style=\"text-align: right;\">\n",
       "      <th></th>\n",
       "      <th>1</th>\n",
       "      <th>2</th>\n",
       "      <th>3</th>\n",
       "      <th>4</th>\n",
       "      <th>5</th>\n",
       "      <th>6</th>\n",
       "    </tr>\n",
       "  </thead>\n",
       "  <tbody>\n",
       "    <tr>\n",
       "      <th>Jay</th>\n",
       "      <td>77</td>\n",
       "      <td>99</td>\n",
       "      <td>66</td>\n",
       "      <td>64</td>\n",
       "      <td>3</td>\n",
       "      <td>38</td>\n",
       "    </tr>\n",
       "    <tr>\n",
       "      <th>Riley</th>\n",
       "      <td>59</td>\n",
       "      <td>56</td>\n",
       "      <td>36</td>\n",
       "      <td>91</td>\n",
       "      <td>24</td>\n",
       "      <td>35</td>\n",
       "    </tr>\n",
       "    <tr>\n",
       "      <th>Sayok</th>\n",
       "      <td>84</td>\n",
       "      <td>46</td>\n",
       "      <td>56</td>\n",
       "      <td>85</td>\n",
       "      <td>36</td>\n",
       "      <td>35</td>\n",
       "    </tr>\n",
       "  </tbody>\n",
       "</table>\n",
       "</div>"
      ],
      "text/plain": [
       "        1   2   3   4   5   6\n",
       "Jay    77  99  66  64   3  38\n",
       "Riley  59  56  36  91  24  35\n",
       "Sayok  84  46  56  85  36  35"
      ]
     },
     "execution_count": 25,
     "metadata": {},
     "output_type": "execute_result"
    }
   ],
   "source": [
    "df[df[6] > 30 ] "
   ]
  },
  {
   "cell_type": "code",
   "execution_count": 26,
   "id": "577f6c7f-9e57-45d9-ba2a-25f21206f508",
   "metadata": {},
   "outputs": [
    {
     "data": {
      "text/plain": [
       "Jay      38\n",
       "Riley    35\n",
       "Sayok    35\n",
       "Jake     11\n",
       "Name: 6, dtype: int64"
      ]
     },
     "execution_count": 26,
     "metadata": {},
     "output_type": "execute_result"
    }
   ],
   "source": [
    "df[6]"
   ]
  },
  {
   "cell_type": "code",
   "execution_count": 27,
   "id": "e1e43520-a2d8-4d8c-9cd3-a7ef6e9e3b02",
   "metadata": {},
   "outputs": [
    {
     "data": {
      "text/plain": [
       "Jay      38\n",
       "Riley    35\n",
       "Sayok    35\n",
       "Name: 6, dtype: int64"
      ]
     },
     "execution_count": 27,
     "metadata": {},
     "output_type": "execute_result"
    }
   ],
   "source": [
    "df[df[6] > 30][6] "
   ]
  },
  {
   "cell_type": "code",
   "execution_count": 28,
   "id": "0b07763c-b6b3-46be-8925-231264dc380d",
   "metadata": {},
   "outputs": [
    {
     "data": {
      "text/html": [
       "<div>\n",
       "<style scoped>\n",
       "    .dataframe tbody tr th:only-of-type {\n",
       "        vertical-align: middle;\n",
       "    }\n",
       "\n",
       "    .dataframe tbody tr th {\n",
       "        vertical-align: top;\n",
       "    }\n",
       "\n",
       "    .dataframe thead th {\n",
       "        text-align: right;\n",
       "    }\n",
       "</style>\n",
       "<table border=\"1\" class=\"dataframe\">\n",
       "  <thead>\n",
       "    <tr style=\"text-align: right;\">\n",
       "      <th></th>\n",
       "      <th>5</th>\n",
       "      <th>6</th>\n",
       "    </tr>\n",
       "  </thead>\n",
       "  <tbody>\n",
       "    <tr>\n",
       "      <th>Jay</th>\n",
       "      <td>3</td>\n",
       "      <td>38</td>\n",
       "    </tr>\n",
       "    <tr>\n",
       "      <th>Riley</th>\n",
       "      <td>24</td>\n",
       "      <td>35</td>\n",
       "    </tr>\n",
       "    <tr>\n",
       "      <th>Sayok</th>\n",
       "      <td>36</td>\n",
       "      <td>35</td>\n",
       "    </tr>\n",
       "  </tbody>\n",
       "</table>\n",
       "</div>"
      ],
      "text/plain": [
       "        5   6\n",
       "Jay     3  38\n",
       "Riley  24  35\n",
       "Sayok  36  35"
      ]
     },
     "execution_count": 28,
     "metadata": {},
     "output_type": "execute_result"
    }
   ],
   "source": [
    "df[df[6] > 30][[5, 6] ]"
   ]
  },
  {
   "cell_type": "code",
   "execution_count": 29,
   "id": "f102b6a9-ad93-4cd3-b481-7b9f60a6b3be",
   "metadata": {},
   "outputs": [
    {
     "data": {
      "text/html": [
       "<div>\n",
       "<style scoped>\n",
       "    .dataframe tbody tr th:only-of-type {\n",
       "        vertical-align: middle;\n",
       "    }\n",
       "\n",
       "    .dataframe tbody tr th {\n",
       "        vertical-align: top;\n",
       "    }\n",
       "\n",
       "    .dataframe thead th {\n",
       "        text-align: right;\n",
       "    }\n",
       "</style>\n",
       "<table border=\"1\" class=\"dataframe\">\n",
       "  <thead>\n",
       "    <tr style=\"text-align: right;\">\n",
       "      <th></th>\n",
       "      <th>1</th>\n",
       "      <th>2</th>\n",
       "      <th>3</th>\n",
       "      <th>4</th>\n",
       "    </tr>\n",
       "  </thead>\n",
       "  <tbody>\n",
       "    <tr>\n",
       "      <th>Aaron</th>\n",
       "      <td>1</td>\n",
       "      <td>2</td>\n",
       "      <td>3</td>\n",
       "      <td>4</td>\n",
       "    </tr>\n",
       "    <tr>\n",
       "      <th>Bill</th>\n",
       "      <td>4</td>\n",
       "      <td>5</td>\n",
       "      <td>6</td>\n",
       "      <td>7</td>\n",
       "    </tr>\n",
       "    <tr>\n",
       "      <th>Cloe</th>\n",
       "      <td>7</td>\n",
       "      <td>8</td>\n",
       "      <td>9</td>\n",
       "      <td>10</td>\n",
       "    </tr>\n",
       "  </tbody>\n",
       "</table>\n",
       "</div>"
      ],
      "text/plain": [
       "       1  2  3   4\n",
       "Aaron  1  2  3   4\n",
       "Bill   4  5  6   7\n",
       "Cloe   7  8  9  10"
      ]
     },
     "execution_count": 29,
     "metadata": {},
     "output_type": "execute_result"
    }
   ],
   "source": [
    "### numpy array of quiz scores\n",
    "arr = np.array([\n",
    "    [1,2,3,4],\n",
    "    [4,5,6,7],\n",
    "    [7,8,9,10]\n",
    "])\n",
    "# arr\n",
    "df = pd.DataFrame(arr, index=['Aaron', 'Bill', 'Cloe'], columns=[1,2,3,4])\n",
    "df"
   ]
  },
  {
   "cell_type": "code",
   "execution_count": 30,
   "id": "6b7bb539-c919-48c3-8176-517571d33dc3",
   "metadata": {},
   "outputs": [
    {
     "data": {
      "text/html": [
       "<div>\n",
       "<style scoped>\n",
       "    .dataframe tbody tr th:only-of-type {\n",
       "        vertical-align: middle;\n",
       "    }\n",
       "\n",
       "    .dataframe tbody tr th {\n",
       "        vertical-align: top;\n",
       "    }\n",
       "\n",
       "    .dataframe thead th {\n",
       "        text-align: right;\n",
       "    }\n",
       "</style>\n",
       "<table border=\"1\" class=\"dataframe\">\n",
       "  <thead>\n",
       "    <tr style=\"text-align: right;\">\n",
       "      <th></th>\n",
       "      <th>1</th>\n",
       "      <th>2</th>\n",
       "      <th>3</th>\n",
       "      <th>4</th>\n",
       "    </tr>\n",
       "  </thead>\n",
       "  <tbody>\n",
       "    <tr>\n",
       "      <th>Bill</th>\n",
       "      <td>4</td>\n",
       "      <td>5</td>\n",
       "      <td>6</td>\n",
       "      <td>7</td>\n",
       "    </tr>\n",
       "    <tr>\n",
       "      <th>Cloe</th>\n",
       "      <td>7</td>\n",
       "      <td>8</td>\n",
       "      <td>9</td>\n",
       "      <td>10</td>\n",
       "    </tr>\n",
       "  </tbody>\n",
       "</table>\n",
       "</div>"
      ],
      "text/plain": [
       "      1  2  3   4\n",
       "Bill  4  5  6   7\n",
       "Cloe  7  8  9  10"
      ]
     },
     "execution_count": 30,
     "metadata": {},
     "output_type": "execute_result"
    }
   ],
   "source": [
    "### multiple conditions\n",
    "df[ (df[3] > 5 ) & (df[4] > 5) ]"
   ]
  },
  {
   "cell_type": "code",
   "execution_count": null,
   "id": "585fca11-deb8-4814-bbae-67ddc23ceb2d",
   "metadata": {},
   "outputs": [],
   "source": [
    "    "
   ]
  },
  {
   "cell_type": "code",
   "execution_count": null,
   "id": "f4b9fc74-f078-4c30-9a4f-803c309d4d8e",
   "metadata": {},
   "outputs": [],
   "source": []
  }
 ],
 "metadata": {
  "kernelspec": {
   "display_name": "venv",
   "language": "python",
   "name": "venv"
  },
  "language_info": {
   "codemirror_mode": {
    "name": "ipython",
    "version": 3
   },
   "file_extension": ".py",
   "mimetype": "text/x-python",
   "name": "python",
   "nbconvert_exporter": "python",
   "pygments_lexer": "ipython3",
   "version": "3.12.0"
  }
 },
 "nbformat": 4,
 "nbformat_minor": 5
}
