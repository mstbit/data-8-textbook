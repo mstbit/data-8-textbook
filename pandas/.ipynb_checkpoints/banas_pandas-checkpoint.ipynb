{
 "cells": [
  {
   "cell_type": "code",
   "execution_count": 3,
   "id": "31a3f69d-4eeb-4132-aeee-9e70bb4f0590",
   "metadata": {},
   "outputs": [],
   "source": [
    "import numpy as np\n",
    "import pandas as pd"
   ]
  },
  {
   "cell_type": "markdown",
   "id": "19c93f42-49c4-4f8a-9ff1-55a21335bf89",
   "metadata": {},
   "source": [
    "#### Series"
   ]
  },
  {
   "cell_type": "code",
   "execution_count": 4,
   "id": "65b1d075-2ea4-42cf-ab7b-89c197b03595",
   "metadata": {},
   "outputs": [
    {
     "data": {
      "text/plain": [
       "1    a\n",
       "2    b\n",
       "3    c\n",
       "4    d\n",
       "dtype: object"
      ]
     },
     "execution_count": 4,
     "metadata": {},
     "output_type": "execute_result"
    }
   ],
   "source": [
    "### list\n",
    "list_1 = ['a', 'b', 'c', 'd']\n",
    "labels = [1, 2,3,4]\n",
    "ser_1 = pd.Series(data=list_1, index = labels)\n",
    "# ser_1.dtype\n",
    "ser_1\n"
   ]
  },
  {
   "cell_type": "code",
   "execution_count": 5,
   "id": "2cf00c8a-3475-4a0b-9c82-3df3ccc1d025",
   "metadata": {},
   "outputs": [
    {
     "data": {
      "text/plain": [
       "1    1\n",
       "2    2\n",
       "3    3\n",
       "4    4\n",
       "dtype: int64"
      ]
     },
     "execution_count": 5,
     "metadata": {},
     "output_type": "execute_result"
    }
   ],
   "source": [
    "### numpy array\n",
    "arr_1 = np.array([1, 2, 3, 4 ])\n",
    "ser_2 = pd.Series(arr_1, index = labels)\n",
    "\n",
    "ser_2\n",
    "# ser_2.dtype"
   ]
  },
  {
   "cell_type": "code",
   "execution_count": 6,
   "id": "cf680107-fac4-4ee1-822a-b35d3f009271",
   "metadata": {},
   "outputs": [
    {
     "data": {
      "text/plain": [
       "f_name      TY\n",
       "l_name    Chen\n",
       "age         35\n",
       "dtype: object"
      ]
     },
     "execution_count": 6,
     "metadata": {},
     "output_type": "execute_result"
    }
   ],
   "source": [
    "### dict\n",
    "dict_1 = {'f_name' : 'TY', 'l_name' : 'Chen', 'age' : 35 }\n",
    "ser_3 = pd.Series(dict_1)\n",
    "ser_3"
   ]
  },
  {
   "cell_type": "code",
   "execution_count": 7,
   "id": "00ac2010-72ac-4573-955f-adbdc2bb01e4",
   "metadata": {},
   "outputs": [
    {
     "data": {
      "text/plain": [
       "1    aa\n",
       "2    bb\n",
       "3    cc\n",
       "4    dd\n",
       "dtype: object"
      ]
     },
     "execution_count": 7,
     "metadata": {},
     "output_type": "execute_result"
    }
   ],
   "source": [
    "### math ops\n",
    "ser_1 + ser_1 \n"
   ]
  },
  {
   "cell_type": "code",
   "execution_count": 8,
   "id": "03943109-18e0-4ff3-965e-7ddaff577de5",
   "metadata": {},
   "outputs": [
    {
     "data": {
      "text/plain": [
       "1    1.0\n",
       "2    1.0\n",
       "3    1.0\n",
       "4    1.0\n",
       "dtype: float64"
      ]
     },
     "execution_count": 8,
     "metadata": {},
     "output_type": "execute_result"
    }
   ],
   "source": [
    "# math ops\n",
    "ser_2 + ser_2\n",
    "ser_2 - ser_2\n",
    "ser_2 * ser_2\n",
    "ser_2 / ser_2\n"
   ]
  },
  {
   "cell_type": "code",
   "execution_count": 9,
   "id": "1e57bf7e-ce14-45ab-9abc-3f4489e83f68",
   "metadata": {},
   "outputs": [
    {
     "data": {
      "text/plain": [
       "1     2.718282\n",
       "2     7.389056\n",
       "3    20.085537\n",
       "4    54.598150\n",
       "dtype: float64"
      ]
     },
     "execution_count": 9,
     "metadata": {},
     "output_type": "execute_result"
    }
   ],
   "source": [
    "### pass to numpy methods\n",
    "np.exp(ser_2)"
   ]
  },
  {
   "cell_type": "code",
   "execution_count": null,
   "id": "04157a6a-eb94-4645-99db-2ab8d1a28c18",
   "metadata": {},
   "outputs": [],
   "source": []
  },
  {
   "cell_type": "code",
   "execution_count": null,
   "id": "4b0bdb02-dd6a-4183-ba7f-3b9a89213b8e",
   "metadata": {},
   "outputs": [],
   "source": []
  }
 ],
 "metadata": {
  "kernelspec": {
   "display_name": "Python 3 (ipykernel)",
   "language": "python",
   "name": "python3"
  },
  "language_info": {
   "codemirror_mode": {
    "name": "ipython",
    "version": 3
   },
   "file_extension": ".py",
   "mimetype": "text/x-python",
   "name": "python",
   "nbconvert_exporter": "python",
   "pygments_lexer": "ipython3",
   "version": "3.12.0"
  }
 },
 "nbformat": 4,
 "nbformat_minor": 5
}
