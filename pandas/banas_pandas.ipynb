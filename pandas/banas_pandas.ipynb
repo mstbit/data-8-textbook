{
 "cells": [
  {
   "cell_type": "code",
   "execution_count": 16,
   "id": "31a3f69d-4eeb-4132-aeee-9e70bb4f0590",
   "metadata": {},
   "outputs": [],
   "source": [
    "import numpy as np\n",
    "import pandas as pd"
   ]
  },
  {
   "cell_type": "markdown",
   "id": "19c93f42-49c4-4f8a-9ff1-55a21335bf89",
   "metadata": {},
   "source": [
    "#### Create a list/array/dictionary ==> pandas series "
   ]
  },
  {
   "cell_type": "code",
   "execution_count": 17,
   "id": "65b1d075-2ea4-42cf-ab7b-89c197b03595",
   "metadata": {},
   "outputs": [
    {
     "data": {
      "text/plain": [
       "1    a\n",
       "2    b\n",
       "3    c\n",
       "4    d\n",
       "dtype: object"
      ]
     },
     "execution_count": 17,
     "metadata": {},
     "output_type": "execute_result"
    }
   ],
   "source": [
    "### create a list\n",
    "list_1 = ['a', 'b', 'c', 'd' ]\n",
    "list_1\n",
    "### create a series\n",
    "labels = [1,2 ,3, 4 ]\n",
    "ser_1 = pd.Series(data = list_1, index = labels)\n",
    "ser_1"
   ]
  },
  {
   "cell_type": "code",
   "execution_count": 18,
   "id": "2cf00c8a-3475-4a0b-9c82-3df3ccc1d025",
   "metadata": {},
   "outputs": [
    {
     "data": {
      "text/plain": [
       "0    1\n",
       "1    2\n",
       "2    3\n",
       "3    4\n",
       "dtype: int64"
      ]
     },
     "execution_count": 18,
     "metadata": {},
     "output_type": "execute_result"
    }
   ],
   "source": [
    "### create a numpy array ==> series\n",
    "arr_1 = np.array([1, 2, 3, 4])\n",
    "ser_2 = pd.Series(arr_1)\n",
    "ser_2\n"
   ]
  },
  {
   "cell_type": "code",
   "execution_count": 19,
   "id": "cf680107-fac4-4ee1-822a-b35d3f009271",
   "metadata": {},
   "outputs": [
    {
     "data": {
      "text/plain": [
       "f_name      TY\n",
       "l_name    Chen\n",
       "age         35\n",
       "dtype: object"
      ]
     },
     "execution_count": 19,
     "metadata": {},
     "output_type": "execute_result"
    }
   ],
   "source": [
    "### create a dictionary ==> series\n",
    "dict_1 = {'f_name' : \"TY\", 'l_name' : \"Chen\", 'age' : 35}\n",
    "dict_1\n",
    "ser_3 = pd.Series(dict_1)\n",
    "ser_3"
   ]
  },
  {
   "cell_type": "markdown",
   "id": "092a5b13-efd7-4aba-a7b6-c3a818614bf4",
   "metadata": {},
   "source": [
    "### Pandas series math operations"
   ]
  },
  {
   "cell_type": "code",
   "execution_count": 24,
   "id": "03943109-18e0-4ff3-965e-7ddaff577de5",
   "metadata": {},
   "outputs": [],
   "source": [
    "### math ops\n",
    "add = ser_2 + ser_2\n",
    "subtract = ser_2 - ser_2\n",
    "multiply = ser_2 * ser_2\n",
    "divide = ser_2 / ser_2\n"
   ]
  },
  {
   "cell_type": "code",
   "execution_count": 65,
   "id": "12086a36-00c5-48c7-8f04-7e4b08c0eb44",
   "metadata": {},
   "outputs": [
    {
     "name": "stdout",
     "output_type": "stream",
     "text": [
      "add:\n",
      "0    2\n",
      "1    4\n",
      "2    6\n",
      "3    8\n",
      "dtype: int64\n",
      "\n",
      "subtract:\n",
      "0    0\n",
      "1    0\n",
      "2    0\n",
      "3    0\n",
      "dtype: int64\n",
      "\n",
      "multiply:\n",
      "0     1\n",
      "1     4\n",
      "2     9\n",
      "3    16\n",
      "dtype: int64\n",
      "\n",
      "divide\n",
      "0    1.0\n",
      "1    1.0\n",
      "2    1.0\n",
      "3    1.0\n",
      "dtype: float64\n"
     ]
    }
   ],
   "source": [
    "print(\"add:\\n\", add, \"\\n\\nsubtract:\\n\", subtract, \"\\n\\nmultiply:\\n\", multiply, \"\\n\\ndivide\\n\", divide, sep='')"
   ]
  },
  {
   "cell_type": "code",
   "execution_count": 78,
   "id": "00ac2010-72ac-4573-955f-adbdc2bb01e4",
   "metadata": {},
   "outputs": [],
   "source": [
    "multiplication = ser_1 * 5\n",
    "addition = ser_1 + ser_1 \n",
    "exponential = np.exp(ser_2)"
   ]
  },
  {
   "cell_type": "code",
   "execution_count": 79,
   "id": "5efe6422-d4f0-4865-9250-23e7f58ff8a8",
   "metadata": {},
   "outputs": [
    {
     "name": "stdout",
     "output_type": "stream",
     "text": [
      "1    aaaaa\n",
      "2    bbbbb\n",
      "3    ccccc\n",
      "4    ddddd\n",
      "dtype: object\n",
      "\n",
      "1    aa\n",
      "2    bb\n",
      "3    cc\n",
      "4    dd\n",
      "dtype: object\n",
      "\n",
      "0     2.718282\n",
      "1     7.389056\n",
      "2    20.085537\n",
      "3    54.598150\n",
      "dtype: float64\n"
     ]
    }
   ],
   "source": [
    "print(multiplication,'\\n\\n', addition, '\\n\\n', exponential, sep='')"
   ]
  },
  {
   "cell_type": "code",
   "execution_count": 80,
   "id": "fda752d6-e07c-4cef-bb90-59fd7aadbddf",
   "metadata": {},
   "outputs": [],
   "source": [
    "# del multiplication"
   ]
  },
  {
   "cell_type": "code",
   "execution_count": 81,
   "id": "1e57bf7e-ce14-45ab-9abc-3f4489e83f68",
   "metadata": {},
   "outputs": [
    {
     "data": {
      "text/plain": [
       "0     2.718282\n",
       "1     7.389056\n",
       "2    20.085537\n",
       "3    54.598150\n",
       "dtype: float64"
      ]
     },
     "execution_count": 81,
     "metadata": {},
     "output_type": "execute_result"
    }
   ],
   "source": [
    "### pass to numpy methods\n",
    "np.exp(ser_2)"
   ]
  },
  {
   "cell_type": "code",
   "execution_count": null,
   "id": "04157a6a-eb94-4645-99db-2ab8d1a28c18",
   "metadata": {},
   "outputs": [],
   "source": []
  },
  {
   "cell_type": "code",
   "execution_count": null,
   "id": "c6ee57c1-9358-493d-a5bb-b5cc05b69ea4",
   "metadata": {},
   "outputs": [],
   "source": []
  },
  {
   "cell_type": "code",
   "execution_count": null,
   "id": "7c046698-1455-43b9-9136-f52433a6b8bc",
   "metadata": {},
   "outputs": [],
   "source": []
  },
  {
   "cell_type": "code",
   "execution_count": null,
   "id": "38f33cf8-bdaa-4c98-b87d-1a1425a8c205",
   "metadata": {},
   "outputs": [],
   "source": []
  }
 ],
 "metadata": {
  "kernelspec": {
   "display_name": "Python 3 (ipykernel)",
   "language": "python",
   "name": "python3"
  },
  "language_info": {
   "codemirror_mode": {
    "name": "ipython",
    "version": 3
   },
   "file_extension": ".py",
   "mimetype": "text/x-python",
   "name": "python",
   "nbconvert_exporter": "python",
   "pygments_lexer": "ipython3",
   "version": "3.12.0"
  }
 },
 "nbformat": 4,
 "nbformat_minor": 5
}
