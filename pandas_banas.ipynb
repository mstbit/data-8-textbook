{
 "cells": [
  {
   "cell_type": "code",
   "execution_count": 18,
   "id": "f8078203-5996-40d4-acd3-ac0affc0ee26",
   "metadata": {},
   "outputs": [],
   "source": [
    "import numpy as np\n",
    "import pandas as pd"
   ]
  },
  {
   "cell_type": "markdown",
   "id": "4567cf51-4fcb-45ac-ab67-66b96b956ce1",
   "metadata": {},
   "source": [
    "### Create a list/array/dictionary ==> pandas series "
   ]
  },
  {
   "cell_type": "code",
   "execution_count": 25,
   "id": "6a96c98a-101a-48b9-ab61-04a35a244c6b",
   "metadata": {},
   "outputs": [
    {
     "data": {
      "text/plain": [
       "1    a\n",
       "2    b\n",
       "3    c\n",
       "4    d\n",
       "dtype: object"
      ]
     },
     "execution_count": 25,
     "metadata": {},
     "output_type": "execute_result"
    }
   ],
   "source": [
    "### create a list\n",
    "list_1 = ['a', 'b', 'c', 'd' ]\n",
    "list_1\n",
    "### create a series\n",
    "labels = [1,2 ,3, 4 ]\n",
    "ser_1 = pd.Series(data = list_1, index = labels)\n",
    "ser_1"
   ]
  },
  {
   "cell_type": "code",
   "execution_count": 28,
   "id": "f195fa27-c730-4cef-b5fd-894ce2369ad2",
   "metadata": {},
   "outputs": [
    {
     "data": {
      "text/plain": [
       "0    1\n",
       "1    2\n",
       "2    3\n",
       "3    4\n",
       "dtype: int64"
      ]
     },
     "execution_count": 28,
     "metadata": {},
     "output_type": "execute_result"
    }
   ],
   "source": [
    "### create an array ==> series\n",
    "arr_1 = np.array([1, 2, 3, 4])\n",
    "ser_2 = pd.Series(arr_1)\n",
    "ser_2"
   ]
  },
  {
   "cell_type": "code",
   "execution_count": 46,
   "id": "1bc1f12f-6f1d-4486-973f-173f83aa9fc1",
   "metadata": {},
   "outputs": [
    {
     "data": {
      "text/plain": [
       "f_name      TY\n",
       "l_name    Chen\n",
       "age         35\n",
       "dtype: object"
      ]
     },
     "execution_count": 46,
     "metadata": {},
     "output_type": "execute_result"
    }
   ],
   "source": [
    "### create a dictionary ==> series\n",
    "dict_1 = {'f_name' : \"TY\", 'l_name' : \"Chen\", 'age' : 35}\n",
    "dict_1\n",
    "ser_3 = pd.Series(dict_1)\n",
    "ser_3"
   ]
  },
  {
   "cell_type": "markdown",
   "id": "9a892a80-d3b2-470c-8ad6-2aa45c64e637",
   "metadata": {},
   "source": [
    "### Pandas series math operations"
   ]
  },
  {
   "cell_type": "code",
   "execution_count": 53,
   "id": "89a9617f-308f-43d4-9f5d-531d154ff23a",
   "metadata": {},
   "outputs": [],
   "source": [
    "multiplication = ser_2 * ser_2\n",
    "addition = ser_1 + ser_1 \n",
    "exponential = np.exp(ser_2)"
   ]
  },
  {
   "cell_type": "code",
   "execution_count": 66,
   "id": "0fa9afde-0cc0-4140-92c9-006412480474",
   "metadata": {},
   "outputs": [
    {
     "name": "stdout",
     "output_type": "stream",
     "text": [
      "0     1\n",
      "1     4\n",
      "2     9\n",
      "3    16\n",
      "dtype: int64 \n",
      " 1    aa\n",
      "2    bb\n",
      "3    cc\n",
      "4    dd\n",
      "dtype: object \n",
      " 0     2.718282\n",
      "1     7.389056\n",
      "2    20.085537\n",
      "3    54.598150\n",
      "dtype: float64\n"
     ]
    }
   ],
   "source": [
    "print(multiplication,'\\n', addition, '\\n', exponential)"
   ]
  },
  {
   "cell_type": "code",
   "execution_count": null,
   "id": "36ae82cb-cb37-439a-8ff4-c43cb073ee6a",
   "metadata": {},
   "outputs": [],
   "source": []
  }
 ],
 "metadata": {
  "kernelspec": {
   "display_name": "Python 3 (ipykernel)",
   "language": "python",
   "name": "python3"
  },
  "language_info": {
   "codemirror_mode": {
    "name": "ipython",
    "version": 3
   },
   "file_extension": ".py",
   "mimetype": "text/x-python",
   "name": "python",
   "nbconvert_exporter": "python",
   "pygments_lexer": "ipython3",
   "version": "3.12.0"
  }
 },
 "nbformat": 4,
 "nbformat_minor": 5
}
