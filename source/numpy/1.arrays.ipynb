{
 "cells": [
  {
   "cell_type": "code",
   "execution_count": 22,
   "id": "8597a7b4-0640-4b60-ba8e-ffd49bf45250",
   "metadata": {},
   "outputs": [],
   "source": [
    "import numpy as np\n",
    "import pandas as pd\n",
    "import matplotlib"
   ]
  },
  {
   "cell_type": "code",
   "execution_count": 14,
   "id": "520e9658-c859-4633-be46-0be5e5d60d7a",
   "metadata": {},
   "outputs": [
    {
     "data": {
      "text/plain": [
       "array([1, 2, 3, 4, 5], dtype=int8)"
      ]
     },
     "execution_count": 14,
     "metadata": {},
     "output_type": "execute_result"
    }
   ],
   "source": [
    "### create a list\n",
    "lst = [1, 2, 3, 4, 5 ]\n",
    "\n",
    "### create array from list\n",
    "### create array from list\n",
    "# np_arr = np.array(lst)\n",
    "# np_arr\n",
    "np_arr = np.array(lst, dtype=np.int8)\n",
    "np_arr"
   ]
  },
  {
   "cell_type": "code",
   "execution_count": 15,
   "id": "4be32989-154c-4fdd-97ea-247f4e54cffa",
   "metadata": {},
   "outputs": [
    {
     "name": "stdout",
     "output_type": "stream",
     "text": [
      "3.9.0\n"
     ]
    }
   ],
   "source": [
    "print(matplotlib.__version__)"
   ]
  },
  {
   "cell_type": "code",
   "execution_count": 16,
   "id": "a18e25a5-eb93-49a8-950a-f3ede28fa271",
   "metadata": {},
   "outputs": [
    {
     "data": {
      "text/plain": [
       "array([[1, 2, 3],\n",
       "       [4, 5, 6],\n",
       "       [7, 8, 9]])"
      ]
     },
     "execution_count": 16,
     "metadata": {},
     "output_type": "execute_result"
    }
   ],
   "source": [
    "### multi-dimensional list ==> array\n",
    "m_list = [\n",
    "    [1,2,3],\n",
    "    [4,5,6],\n",
    "    [7,8,9]\n",
    "]\n",
    "\n",
    "np_m_arr = np.array(m_list)   ### pass the list into the array function\n",
    "np_m_arr"
   ]
  },
  {
   "cell_type": "code",
   "execution_count": 17,
   "id": "675ca4cc-5529-4f15-aff5-ea516185b61e",
   "metadata": {},
   "outputs": [
    {
     "data": {
      "text/plain": [
       "array([1, 2, 3, 4, 5, 6, 7, 8, 9])"
      ]
     },
     "execution_count": 17,
     "metadata": {},
     "output_type": "execute_result"
    }
   ],
   "source": [
    "### https://numpy.org/doc/stable/reference/generated/numpy.arange.html\n",
    "np.arange(1, 10)   ### note the last element is 9"
   ]
  },
  {
   "cell_type": "code",
   "execution_count": 18,
   "id": "3aa7ed32-e93a-40e3-b5a2-cc859cb48cca",
   "metadata": {},
   "outputs": [
    {
     "data": {
      "text/plain": [
       "array([-3, -2, -1,  0,  1,  2,  3,  4,  5,  6,  7,  8])"
      ]
     },
     "execution_count": 18,
     "metadata": {},
     "output_type": "execute_result"
    }
   ],
   "source": [
    "### stepping\n",
    "np.arange(1, 10, 2)\n",
    "\n",
    "## stepping issues: side effect with arange(); use linspace instead\n",
    "np.arange(0, 5, 0.5, dtype=int)\n",
    "np.arange(-3, 3, 0.5, dtype=int)"
   ]
  },
  {
   "cell_type": "code",
   "execution_count": 25,
   "id": "b0dee26a-732e-4172-bb56-c803ccfe8b56",
   "metadata": {},
   "outputs": [
    {
     "data": {
      "text/plain": [
       "array([0.  , 1.25, 2.5 , 3.75, 5.  ])"
      ]
     },
     "execution_count": 25,
     "metadata": {},
     "output_type": "execute_result"
    }
   ],
   "source": [
    "### linspace https://numpy.org/doc/stable/reference/generated/numpy.linspace.html#numpy.linspace\n",
    "np.linspace(0, 5, 7)\n",
    "np.linspace(0, 5, 5)"
   ]
  },
  {
   "cell_type": "code",
   "execution_count": 20,
   "id": "68a7561e-4d7b-4365-84a3-dae70a120a3b",
   "metadata": {},
   "outputs": [
    {
     "data": {
      "text/plain": [
       "array([[1., 1., 1., 1.],\n",
       "       [1., 1., 1., 1.]])"
      ]
     },
     "execution_count": 20,
     "metadata": {},
     "output_type": "execute_result"
    }
   ],
   "source": [
    "### zero array\n",
    "np.zeros(4)\n",
    "\n",
    "## multi-dimensional array filled with zeros\n",
    "np.zeros((2, 4))\n",
    "\n",
    "## filled with one's\n",
    "np.ones((2, 4))"
   ]
  },
  {
   "cell_type": "code",
   "execution_count": 21,
   "id": "7f7d2188-e0b8-4559-b1ab-ae6aeaaa0581",
   "metadata": {},
   "outputs": [
    {
     "data": {
      "text/plain": [
       "9"
      ]
     },
     "execution_count": 21,
     "metadata": {},
     "output_type": "execute_result"
    }
   ],
   "source": [
    "### size of array\n",
    "np_m_arr.size"
   ]
  },
  {
   "cell_type": "code",
   "execution_count": 29,
   "id": "7d8bafb1-b312-4493-b206-2a713a69e127",
   "metadata": {},
   "outputs": [],
   "source": [
    "np_arr_2 = np.array([1, 2, 3, 4, 5])"
   ]
  },
  {
   "cell_type": "code",
   "execution_count": 30,
   "id": "02a969f2-9511-4102-b871-0e4572ff596e",
   "metadata": {},
   "outputs": [
    {
     "data": {
      "text/plain": [
       "array([1, 2, 3, 4, 5], dtype=int8)"
      ]
     },
     "execution_count": 30,
     "metadata": {},
     "output_type": "execute_result"
    }
   ],
   "source": [
    "np_arr"
   ]
  },
  {
   "cell_type": "code",
   "execution_count": 32,
   "id": "503a943d-b73c-4ccd-9904-133ab778bb6c",
   "metadata": {},
   "outputs": [
    {
     "data": {
      "text/plain": [
       "dtype('int64')"
      ]
     },
     "execution_count": 32,
     "metadata": {},
     "output_type": "execute_result"
    }
   ],
   "source": [
    "np_arr_2\n",
    "np_arr_2.dtype"
   ]
  },
  {
   "cell_type": "code",
   "execution_count": 33,
   "id": "541ade3a-7a8e-4f2b-96fd-8a5a80c59d5f",
   "metadata": {},
   "outputs": [],
   "source": [
    "### data types\n",
    "# Boolean: np.bool_\n",
    "# Char: np.byte\n",
    "# Short: np.short\n",
    "# Integer: np.short\n",
    "# Long: np.int_\n",
    "# Float: np.single & np.float32\n",
    "# Double: np.double & np.float64\n",
    "# np.int8: -128 to 127\n",
    "# np.int16: -32768 to 32767\n",
    "# np.int32: -2147483648 to 2147483647\n",
    "# np.int64: \n"
   ]
  },
  {
   "cell_type": "code",
   "execution_count": 38,
   "id": "f51c1b4b-8279-486e-948c-c73f232c3c3b",
   "metadata": {},
   "outputs": [
    {
     "data": {
      "text/plain": [
       "array([[35, 41, 29],\n",
       "       [18, 28, 10]])"
      ]
     },
     "execution_count": 38,
     "metadata": {},
     "output_type": "execute_result"
    }
   ],
   "source": [
    "### random arrays\n",
    "np.random.randint(10, 50, 5 )\n",
    "np.random.randint(10, 50, size = (2, 3) )"
   ]
  },
  {
   "cell_type": "code",
   "execution_count": 49,
   "id": "18af1821-0390-49c1-9cfd-a4789dd2dac6",
   "metadata": {},
   "outputs": [],
   "source": [
    "##### how to learn more about a function? #####\n",
    "# np.random.randint?\n",
    "#####"
   ]
  },
  {
   "cell_type": "code",
   "execution_count": 74,
   "id": "6fd58785-623b-459e-909b-769138084023",
   "metadata": {},
   "outputs": [
    {
     "data": {
      "text/plain": [
       "array([3, 1, 2, 4, 1, 1, 3, 2, 2, 1, 2, 4, 1, 3, 1, 3, 3, 1, 2, 1, 2, 1,\n",
       "       4, 2, 3, 2, 4, 1, 2, 2, 3, 1, 1, 2, 1, 4, 4, 3, 1, 2, 2, 1, 3, 1,\n",
       "       2, 1, 4, 3, 4, 3, 1, 3, 1, 4, 3, 4, 1, 1, 2, 4, 1, 4, 4, 1, 2, 1,\n",
       "       4, 3, 2, 4, 1, 4, 3, 2, 1, 4, 1, 4, 2, 1, 4, 2, 2, 2, 2, 4, 1, 4,\n",
       "       2, 1, 2, 4, 4, 4, 4, 3, 2, 1, 1, 3])"
      ]
     },
     "execution_count": 74,
     "metadata": {},
     "output_type": "execute_result"
    }
   ],
   "source": [
    "np.random.randint(1, 5, 100)"
   ]
  },
  {
   "cell_type": "code",
   "execution_count": null,
   "id": "ffd5409d-957c-414d-9c3e-2a7f6cc028ab",
   "metadata": {},
   "outputs": [],
   "source": []
  },
  {
   "cell_type": "code",
   "execution_count": null,
   "id": "566414fb-7e0b-4544-ac0e-c40492ed306b",
   "metadata": {},
   "outputs": [],
   "source": []
  }
 ],
 "metadata": {
  "kernelspec": {
   "display_name": "venv",
   "language": "python",
   "name": "venv"
  },
  "language_info": {
   "codemirror_mode": {
    "name": "ipython",
    "version": 3
   },
   "file_extension": ".py",
   "mimetype": "text/x-python",
   "name": "python",
   "nbconvert_exporter": "python",
   "pygments_lexer": "ipython3",
   "version": "3.12.0"
  }
 },
 "nbformat": 4,
 "nbformat_minor": 5
}
