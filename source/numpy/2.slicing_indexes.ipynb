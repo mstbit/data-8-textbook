{
 "cells": [
  {
   "cell_type": "code",
   "execution_count": 29,
   "id": "8ec40dfd-9293-4c4f-b97e-bd4ab265068e",
   "metadata": {},
   "outputs": [],
   "source": [
    "import pandas as pd\n",
    "import numpy as np\n",
    "# import random ##### just use np"
   ]
  },
  {
   "cell_type": "code",
   "execution_count": 30,
   "id": "755fe7ba-d15c-4b77-b469-191981712eba",
   "metadata": {},
   "outputs": [
    {
     "data": {
      "text/plain": [
       "array([[435, 257, 154, 449, 118, 162,  83, 314,  95,  19],\n",
       "       [ 42, 466, 298, 287, 261, 284, 202, 334, 267, 476],\n",
       "       [114, 186, 148, 139,  35, 123, 446, 200, 482, 413],\n",
       "       [299, 246, 270, 443, 108, 151, 102, 384, 362, 233],\n",
       "       [ 78,  73, 113, 484, 179, 391, 380, 363,  20,  53]])"
      ]
     },
     "execution_count": 30,
     "metadata": {},
     "output_type": "execute_result"
    }
   ],
   "source": [
    "np.random.randint(1, 500, 5)\n",
    "np.random.randint(1, 500, size = (5, 10))"
   ]
  },
  {
   "cell_type": "code",
   "execution_count": 31,
   "id": "a938da81-ffff-43ef-9e04-1099d5964dd4",
   "metadata": {},
   "outputs": [
    {
     "data": {
      "text/plain": [
       "array([[1, 2, 3],\n",
       "       [4, 5, 6],\n",
       "       [7, 8, 9]])"
      ]
     },
     "execution_count": 31,
     "metadata": {},
     "output_type": "execute_result"
    }
   ],
   "source": [
    "m_list = [\n",
    "    [1,2,3],\n",
    "    [4,5,6],\n",
    "    [7,8,9]\n",
    "]\n",
    "\n",
    "np_m_arr = np.array(m_list)\n",
    "np_m_arr"
   ]
  },
  {
   "cell_type": "code",
   "execution_count": 32,
   "id": "9d78f95a-9c76-42f1-8e36-61779e6e66f2",
   "metadata": {},
   "outputs": [],
   "source": [
    "### modify array elements\n",
    "np_m_arr[0, 0] = 100"
   ]
  },
  {
   "cell_type": "code",
   "execution_count": 33,
   "id": "ce6bab30-4b61-4178-bee9-4b92f850d5fa",
   "metadata": {},
   "outputs": [
    {
     "name": "stdout",
     "output_type": "stream",
     "text": [
      "array np_m_arr:\n",
      " [[100   2   3]\n",
      " [  4   5   6]\n",
      " [  7   8   9]]\n"
     ]
    }
   ],
   "source": [
    "print('array np_m_arr:\\n', np_m_arr)"
   ]
  },
  {
   "cell_type": "code",
   "execution_count": 34,
   "id": "9af91d3b-fb68-425e-bcd3-1b29de089c2d",
   "metadata": {},
   "outputs": [
    {
     "data": {
      "text/plain": [
       "array([[100, 999,   3],\n",
       "       [  4,   5,   6],\n",
       "       [  7,   8,   9]])"
      ]
     },
     "execution_count": 34,
     "metadata": {},
     "output_type": "execute_result"
    }
   ],
   "source": [
    "np_m_arr.itemset((0, 1), 999)\n",
    "np_m_arr"
   ]
  },
  {
   "cell_type": "code",
   "execution_count": 35,
   "id": "29bf8346-d0e2-479b-907c-29c8ac247fc9",
   "metadata": {},
   "outputs": [
    {
     "data": {
      "text/plain": [
       "(3, 3)"
      ]
     },
     "execution_count": 35,
     "metadata": {},
     "output_type": "execute_result"
    }
   ],
   "source": [
    "### shape\n",
    "np_m_arr.shape"
   ]
  },
  {
   "cell_type": "code",
   "execution_count": 36,
   "id": "811ad224-3988-47e2-a76b-c275bd65d820",
   "metadata": {},
   "outputs": [
    {
     "data": {
      "text/plain": [
       "100"
      ]
     },
     "execution_count": 36,
     "metadata": {},
     "output_type": "execute_result"
    }
   ],
   "source": [
    "### get \n",
    "np_m_arr[0, 0]"
   ]
  },
  {
   "cell_type": "code",
   "execution_count": 37,
   "id": "100fb474-90a8-42a3-8533-547dd3d54044",
   "metadata": {},
   "outputs": [
    {
     "data": {
      "text/plain": [
       "100"
      ]
     },
     "execution_count": 37,
     "metadata": {},
     "output_type": "execute_result"
    }
   ],
   "source": [
    "### get\n",
    "np_m_arr.item(0, 0)"
   ]
  },
  {
   "cell_type": "code",
   "execution_count": 38,
   "id": "789e884d-aac2-40dc-a876-e55705af79b5",
   "metadata": {},
   "outputs": [
    {
     "data": {
      "text/plain": [
       "array([100, 999,   3,   4])"
      ]
     },
     "execution_count": 38,
     "metadata": {},
     "output_type": "execute_result"
    }
   ],
   "source": [
    "### show using take()\n",
    "np.take(np_m_arr, [0, 1, 2, 3])"
   ]
  },
  {
   "cell_type": "code",
   "execution_count": 39,
   "id": "1ffd028c-fd44-40b2-9d6f-7dd352992af6",
   "metadata": {},
   "outputs": [
    {
     "data": {
      "text/plain": [
       "array([[100, 999,   3],\n",
       "       [100,   5,   6],\n",
       "       [100,   8,   9]])"
      ]
     },
     "execution_count": 39,
     "metadata": {},
     "output_type": "execute_result"
    }
   ],
   "source": [
    "### \n",
    "### put()\n",
    "np.put(np_m_arr, [0, 3, 6], [100, 100, 100])\n",
    "np_m_arr"
   ]
  },
  {
   "cell_type": "code",
   "execution_count": null,
   "id": "e8a15717-494e-46e9-9d42-9b124d6a81e6",
   "metadata": {},
   "outputs": [],
   "source": []
  }
 ],
 "metadata": {
  "kernelspec": {
   "display_name": "venv",
   "language": "python",
   "name": "venv"
  },
  "language_info": {
   "codemirror_mode": {
    "name": "ipython",
    "version": 3
   },
   "file_extension": ".py",
   "mimetype": "text/x-python",
   "name": "python",
   "nbconvert_exporter": "python",
   "pygments_lexer": "ipython3",
   "version": "3.12.0"
  }
 },
 "nbformat": 4,
 "nbformat_minor": 5
}
