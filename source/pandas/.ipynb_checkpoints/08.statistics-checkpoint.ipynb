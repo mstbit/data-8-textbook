{
 "cells": [
  {
   "cell_type": "code",
   "execution_count": 19,
   "id": "cffcbce6-703f-4200-a1ca-391dca17585a",
   "metadata": {},
   "outputs": [
    {
     "data": {
      "text/html": [
       "<div>\n",
       "<style scoped>\n",
       "    .dataframe tbody tr th:only-of-type {\n",
       "        vertical-align: middle;\n",
       "    }\n",
       "\n",
       "    .dataframe tbody tr th {\n",
       "        vertical-align: top;\n",
       "    }\n",
       "\n",
       "    .dataframe thead th {\n",
       "        text-align: right;\n",
       "    }\n",
       "</style>\n",
       "<table border=\"1\" class=\"dataframe\">\n",
       "  <thead>\n",
       "    <tr style=\"text-align: right;\">\n",
       "      <th></th>\n",
       "      <th>Temperature</th>\n",
       "      <th>Sales</th>\n",
       "    </tr>\n",
       "  </thead>\n",
       "  <tbody>\n",
       "    <tr>\n",
       "      <th>0</th>\n",
       "      <td>37</td>\n",
       "      <td>292</td>\n",
       "    </tr>\n",
       "    <tr>\n",
       "      <th>1</th>\n",
       "      <td>40</td>\n",
       "      <td>228</td>\n",
       "    </tr>\n",
       "    <tr>\n",
       "      <th>2</th>\n",
       "      <td>49</td>\n",
       "      <td>324</td>\n",
       "    </tr>\n",
       "    <tr>\n",
       "      <th>3</th>\n",
       "      <td>61</td>\n",
       "      <td>376</td>\n",
       "    </tr>\n",
       "    <tr>\n",
       "      <th>4</th>\n",
       "      <td>72</td>\n",
       "      <td>440</td>\n",
       "    </tr>\n",
       "    <tr>\n",
       "      <th>5</th>\n",
       "      <td>79</td>\n",
       "      <td>496</td>\n",
       "    </tr>\n",
       "    <tr>\n",
       "      <th>6</th>\n",
       "      <td>83</td>\n",
       "      <td>536</td>\n",
       "    </tr>\n",
       "    <tr>\n",
       "      <th>7</th>\n",
       "      <td>81</td>\n",
       "      <td>556</td>\n",
       "    </tr>\n",
       "    <tr>\n",
       "      <th>8</th>\n",
       "      <td>75</td>\n",
       "      <td>496</td>\n",
       "    </tr>\n",
       "    <tr>\n",
       "      <th>9</th>\n",
       "      <td>64</td>\n",
       "      <td>412</td>\n",
       "    </tr>\n",
       "    <tr>\n",
       "      <th>10</th>\n",
       "      <td>53</td>\n",
       "      <td>324</td>\n",
       "    </tr>\n",
       "    <tr>\n",
       "      <th>11</th>\n",
       "      <td>40</td>\n",
       "      <td>320</td>\n",
       "    </tr>\n",
       "  </tbody>\n",
       "</table>\n",
       "</div>"
      ],
      "text/plain": [
       "    Temperature  Sales\n",
       "0            37    292\n",
       "1            40    228\n",
       "2            49    324\n",
       "3            61    376\n",
       "4            72    440\n",
       "5            79    496\n",
       "6            83    536\n",
       "7            81    556\n",
       "8            75    496\n",
       "9            64    412\n",
       "10           53    324\n",
       "11           40    320"
      ]
     },
     "execution_count": 19,
     "metadata": {},
     "output_type": "execute_result"
    }
   ],
   "source": [
    "import pandas as pd\n",
    "import numpy as np\n",
    "df = pd.read_csv('icecreamsales.csv')\n",
    "df"
   ]
  },
  {
   "cell_type": "code",
   "execution_count": 20,
   "id": "4c5780ae-242f-4c66-a11f-33de11162749",
   "metadata": {},
   "outputs": [
    {
     "data": {
      "text/plain": [
       "Temperature    12\n",
       "Sales          12\n",
       "dtype: int64"
      ]
     },
     "execution_count": 20,
     "metadata": {},
     "output_type": "execute_result"
    }
   ],
   "source": [
    "df.count()"
   ]
  },
  {
   "cell_type": "code",
   "execution_count": 21,
   "id": "ea85ef87-c32f-42b6-a0b8-6b4961560255",
   "metadata": {},
   "outputs": [
    {
     "data": {
      "text/plain": [
       "Temperature     734\n",
       "Sales          4800\n",
       "dtype: int64"
      ]
     },
     "execution_count": 21,
     "metadata": {},
     "output_type": "execute_result"
    }
   ],
   "source": [
    "df.sum()"
   ]
  },
  {
   "cell_type": "code",
   "execution_count": 22,
   "id": "286a34a9-ec25-4029-870d-2d3f2d6c489d",
   "metadata": {},
   "outputs": [
    {
     "data": {
      "text/plain": [
       "Temperature     734\n",
       "Sales          4800\n",
       "dtype: int64"
      ]
     },
     "execution_count": 22,
     "metadata": {},
     "output_type": "execute_result"
    }
   ],
   "source": [
    "df.sum(skipna=True)"
   ]
  },
  {
   "cell_type": "code",
   "execution_count": 23,
   "id": "0b4d39a6-65a6-4e93-9e2b-9cdd183748c5",
   "metadata": {},
   "outputs": [
    {
     "name": "stdout",
     "output_type": "stream",
     "text": [
      "0     292\n",
      "1     228\n",
      "2     324\n",
      "3     376\n",
      "4     440\n",
      "5     496\n",
      "6     536\n",
      "7     556\n",
      "8     496\n",
      "9     412\n",
      "10    324\n",
      "11    320\n",
      "Name: Sales, dtype: int64 \n",
      "\n",
      "400.0\n",
      "394.0\n",
      "0    324\n",
      "1    496\n",
      "Name: Sales, dtype: int64\n",
      "228\n",
      "556\n",
      "4582080946295013376\n",
      "105.65122724408751\n",
      "11162.181818181818\n",
      "30.498882244794125\n",
      "0.036552031682046925\n",
      "-1.2179973006069797\n",
      "394.0\n",
      "0      292\n",
      "1      520\n",
      "2      844\n",
      "3     1220\n",
      "4     1660\n",
      "5     2156\n",
      "6     2692\n",
      "7     3248\n",
      "8     3744\n",
      "9     4156\n",
      "10    4480\n",
      "11    4800\n",
      "Name: Sales, dtype: int64\n",
      "0                     292\n",
      "1                   66576\n",
      "2                21570624\n",
      "3              8110554624\n",
      "4           3568644034560\n",
      "5        1770047441141760\n",
      "6      948745428451983360\n",
      "7    -7453119918274248704\n",
      "8    -7398664722117033984\n",
      "9    -4537093350141984768\n",
      "10    5721280450761064448\n",
      "11    4582080946295013376\n",
      "Name: Sales, dtype: int64\n",
      "0     292\n",
      "1     292\n",
      "2     324\n",
      "3     376\n",
      "4     440\n",
      "5     496\n",
      "6     536\n",
      "7     556\n",
      "8     556\n",
      "9     556\n",
      "10    556\n",
      "11    556\n",
      "Name: Sales, dtype: int64\n",
      "0     292\n",
      "1     228\n",
      "2     228\n",
      "3     228\n",
      "4     228\n",
      "5     228\n",
      "6     228\n",
      "7     228\n",
      "8     228\n",
      "9     228\n",
      "10    228\n",
      "11    228\n",
      "Name: Sales, dtype: int64\n",
      "count     12.000000\n",
      "mean     400.000000\n",
      "std      105.651227\n",
      "min      228.000000\n",
      "25%      323.000000\n",
      "50%      394.000000\n",
      "75%      496.000000\n",
      "max      556.000000\n",
      "Name: Sales, dtype: float64\n"
     ]
    }
   ],
   "source": [
    "print(df['Sales'], '\\n')\n",
    "print(df['Sales'].mean())\n",
    "print(df['Sales'].median())\n",
    "print(df['Sales'].mode())\n",
    "print(df['Sales'].min())\n",
    "print(df['Sales'].max())\n",
    "print(df['Sales'].product())\n",
    "print(df['Sales'].std())\n",
    "print(df['Sales'].var())\n",
    "print(df['Sales'].sem())\n",
    "print(df['Sales'].skew())\n",
    "print(df['Sales'].kurt())\n",
    "print(df['Sales'].quantile())\n",
    "print(df['Sales'].cumsum())\n",
    "print(df['Sales'].cumprod())\n",
    "print(df['Sales'].cummax())\n",
    "print(df['Sales'].cummin())\n",
    "print(df['Sales'].describe())\n"
   ]
  },
  {
   "cell_type": "code",
   "execution_count": 24,
   "id": "6624ffac-9423-41f7-b53f-87b0cbb55c91",
   "metadata": {},
   "outputs": [],
   "source": [
    "ser = pd.Series(data=[\n",
    "    2, 3, 3, 4, 4, 4, 5, 5, 5, 5, 6,6,6,6,6, 7,7,7,7,7,7, 8,8,8,8,8, 9,9,9,9,10,10,10, 11, 11, 12\n",
    "])"
   ]
  },
  {
   "cell_type": "code",
   "execution_count": 25,
   "id": "a869ff80-2ab9-4293-b18b-4d452c3a16b2",
   "metadata": {},
   "outputs": [
    {
     "data": {
      "text/plain": [
       "7     6\n",
       "6     5\n",
       "8     5\n",
       "5     4\n",
       "9     4\n",
       "4     3\n",
       "10    3\n",
       "3     2\n",
       "11    2\n",
       "2     1\n",
       "12    1\n",
       "Name: count, dtype: int64"
      ]
     },
     "execution_count": 25,
     "metadata": {},
     "output_type": "execute_result"
    }
   ],
   "source": [
    "ser.value_counts()"
   ]
  },
  {
   "cell_type": "code",
   "execution_count": 26,
   "id": "d658a4f1-6d9b-4d1d-a590-73c22f5fe53a",
   "metadata": {},
   "outputs": [
    {
     "name": "stdout",
     "output_type": "stream",
     "text": [
      "   one  two\n",
      "a  1.0  1.0\n",
      "b  2.0  2.0\n",
      "c  3.0  3.0\n",
      "d  NaN  4.0 \n",
      "\n"
     ]
    },
    {
     "data": {
      "text/html": [
       "<div>\n",
       "<style scoped>\n",
       "    .dataframe tbody tr th:only-of-type {\n",
       "        vertical-align: middle;\n",
       "    }\n",
       "\n",
       "    .dataframe tbody tr th {\n",
       "        vertical-align: top;\n",
       "    }\n",
       "\n",
       "    .dataframe thead th {\n",
       "        text-align: right;\n",
       "    }\n",
       "</style>\n",
       "<table border=\"1\" class=\"dataframe\">\n",
       "  <thead>\n",
       "    <tr style=\"text-align: right;\">\n",
       "      <th></th>\n",
       "      <th>one</th>\n",
       "      <th>two</th>\n",
       "    </tr>\n",
       "  </thead>\n",
       "  <tbody>\n",
       "    <tr>\n",
       "      <th>a</th>\n",
       "      <td>1.0</td>\n",
       "      <td>1.0</td>\n",
       "    </tr>\n",
       "    <tr>\n",
       "      <th>b</th>\n",
       "      <td>2.0</td>\n",
       "      <td>2.0</td>\n",
       "    </tr>\n",
       "    <tr>\n",
       "      <th>c</th>\n",
       "      <td>3.0</td>\n",
       "      <td>3.0</td>\n",
       "    </tr>\n",
       "    <tr>\n",
       "      <th>d</th>\n",
       "      <td>0.0</td>\n",
       "      <td>4.0</td>\n",
       "    </tr>\n",
       "  </tbody>\n",
       "</table>\n",
       "</div>"
      ],
      "text/plain": [
       "   one  two\n",
       "a  1.0  1.0\n",
       "b  2.0  2.0\n",
       "c  3.0  3.0\n",
       "d  0.0  4.0"
      ]
     },
     "execution_count": 26,
     "metadata": {},
     "output_type": "execute_result"
    }
   ],
   "source": [
    "### create a dictionary\n",
    "dict = {'one': pd.Series([1.,2.,3.], index=['a','b','c']), \n",
    "        'two': pd.Series([1.,2.,3.,4.], index=['a','b','c','d'])\n",
    "       }\n",
    "\n",
    "### create a dataframe from the dictionary\n",
    "df = pd.DataFrame(dict)\n",
    "print(df, '\\n')\n",
    "df.fillna(0)"
   ]
  },
  {
   "cell_type": "code",
   "execution_count": 27,
   "id": "4647f214-5a86-4798-9409-0534bb0fc6e2",
   "metadata": {},
   "outputs": [
    {
     "name": "stderr",
     "output_type": "stream",
     "text": [
      "/var/folders/6t/bfp06fh96wn60n_mjtxmbhfm0000gn/T/ipykernel_4856/1193103369.py:1: FutureWarning: The provided callable <function mean at 0x10acefb00> is currently using DataFrame.mean. In a future version of pandas, the provided callable will be used directly. To keep current behavior pass the string \"mean\" instead.\n",
      "  df.agg(np.mean)\n"
     ]
    },
    {
     "data": {
      "text/plain": [
       "one    2.0\n",
       "two    2.5\n",
       "dtype: float64"
      ]
     },
     "execution_count": 27,
     "metadata": {},
     "output_type": "execute_result"
    }
   ],
   "source": [
    "df.agg(np.mean)"
   ]
  },
  {
   "cell_type": "code",
   "execution_count": 28,
   "id": "e3d52e03-6608-476c-a4d6-b04475d6553c",
   "metadata": {},
   "outputs": [
    {
     "data": {
      "text/plain": [
       "one    2.0\n",
       "two    2.5\n",
       "dtype: float64"
      ]
     },
     "execution_count": 28,
     "metadata": {},
     "output_type": "execute_result"
    }
   ],
   "source": [
    "df.agg('mean')"
   ]
  },
  {
   "cell_type": "code",
   "execution_count": 29,
   "id": "46a8aeab-1992-425a-9119-f29c89bcf68e",
   "metadata": {},
   "outputs": [
    {
     "data": {
      "text/html": [
       "<div>\n",
       "<style scoped>\n",
       "    .dataframe tbody tr th:only-of-type {\n",
       "        vertical-align: middle;\n",
       "    }\n",
       "\n",
       "    .dataframe tbody tr th {\n",
       "        vertical-align: top;\n",
       "    }\n",
       "\n",
       "    .dataframe thead th {\n",
       "        text-align: right;\n",
       "    }\n",
       "</style>\n",
       "<table border=\"1\" class=\"dataframe\">\n",
       "  <thead>\n",
       "    <tr style=\"text-align: right;\">\n",
       "      <th></th>\n",
       "      <th>one</th>\n",
       "      <th>two</th>\n",
       "    </tr>\n",
       "  </thead>\n",
       "  <tbody>\n",
       "    <tr>\n",
       "      <th>mean</th>\n",
       "      <td>2.0</td>\n",
       "      <td>2.500000</td>\n",
       "    </tr>\n",
       "    <tr>\n",
       "      <th>std</th>\n",
       "      <td>1.0</td>\n",
       "      <td>1.290994</td>\n",
       "    </tr>\n",
       "  </tbody>\n",
       "</table>\n",
       "</div>"
      ],
      "text/plain": [
       "      one       two\n",
       "mean  2.0  2.500000\n",
       "std   1.0  1.290994"
      ]
     },
     "execution_count": 29,
     "metadata": {},
     "output_type": "execute_result"
    }
   ],
   "source": [
    "df.agg(['mean', 'std'])"
   ]
  },
  {
   "cell_type": "code",
   "execution_count": null,
   "id": "7832c1a9-7004-4c9d-952a-acc16a732d2f",
   "metadata": {},
   "outputs": [],
   "source": []
  }
 ],
 "metadata": {
  "kernelspec": {
   "display_name": "venv",
   "language": "python",
   "name": "venv"
  },
  "language_info": {
   "codemirror_mode": {
    "name": "ipython",
    "version": 3
   },
   "file_extension": ".py",
   "mimetype": "text/x-python",
   "name": "python",
   "nbconvert_exporter": "python",
   "pygments_lexer": "ipython3",
   "version": "3.12.0"
  }
 },
 "nbformat": 4,
 "nbformat_minor": 5
}
