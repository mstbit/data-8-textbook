{
 "cells": [
  {
   "cell_type": "markdown",
   "id": "28d93089-715f-4d06-b62b-e5cffb3d9ef2",
   "metadata": {},
   "source": [
    "## Basics & Math"
   ]
  },
  {
   "cell_type": "code",
   "execution_count": 28,
   "id": "c906e6c1-3f0e-4c2f-8b5c-53397ba96e34",
   "metadata": {},
   "outputs": [],
   "source": [
    "import pandas as pd"
   ]
  },
  {
   "cell_type": "markdown",
   "id": "99d5f574-e964-4e1e-b069-78087ffe56f4",
   "metadata": {},
   "source": [
    "#### read the csv"
   ]
  },
  {
   "cell_type": "code",
   "execution_count": 29,
   "id": "eb16bee6-22a2-432d-ac59-3fedb5b13e31",
   "metadata": {},
   "outputs": [
    {
     "data": {
      "text/html": [
       "<div>\n",
       "<style scoped>\n",
       "    .dataframe tbody tr th:only-of-type {\n",
       "        vertical-align: middle;\n",
       "    }\n",
       "\n",
       "    .dataframe tbody tr th {\n",
       "        vertical-align: top;\n",
       "    }\n",
       "\n",
       "    .dataframe thead th {\n",
       "        text-align: right;\n",
       "    }\n",
       "</style>\n",
       "<table border=\"1\" class=\"dataframe\">\n",
       "  <thead>\n",
       "    <tr style=\"text-align: right;\">\n",
       "      <th></th>\n",
       "      <th>Sale ID</th>\n",
       "      <th>Contact</th>\n",
       "      <th>Sex</th>\n",
       "      <th>Age</th>\n",
       "      <th>State</th>\n",
       "      <th>Product ID</th>\n",
       "      <th>Product Type</th>\n",
       "      <th>Sale Price</th>\n",
       "      <th>Profit</th>\n",
       "      <th>Lead</th>\n",
       "      <th>Month</th>\n",
       "      <th>Year</th>\n",
       "    </tr>\n",
       "  </thead>\n",
       "  <tbody>\n",
       "    <tr>\n",
       "      <th>34</th>\n",
       "      <td>35</td>\n",
       "      <td>Michelle Samms</td>\n",
       "      <td>F</td>\n",
       "      <td>46</td>\n",
       "      <td>NY</td>\n",
       "      <td>MY2J2LL</td>\n",
       "      <td>Tablet</td>\n",
       "      <td>999.99</td>\n",
       "      <td>146.69</td>\n",
       "      <td>Website</td>\n",
       "      <td>April</td>\n",
       "      <td>2020</td>\n",
       "    </tr>\n",
       "    <tr>\n",
       "      <th>35</th>\n",
       "      <td>36</td>\n",
       "      <td>Sally Struthers</td>\n",
       "      <td>F</td>\n",
       "      <td>45</td>\n",
       "      <td>NY</td>\n",
       "      <td>81TC00</td>\n",
       "      <td>Laptop</td>\n",
       "      <td>649.99</td>\n",
       "      <td>122.34</td>\n",
       "      <td>Website</td>\n",
       "      <td>April</td>\n",
       "      <td>2020</td>\n",
       "    </tr>\n",
       "    <tr>\n",
       "      <th>36</th>\n",
       "      <td>37</td>\n",
       "      <td>Jason Case</td>\n",
       "      <td>M</td>\n",
       "      <td>57</td>\n",
       "      <td>PA</td>\n",
       "      <td>M01-F0024</td>\n",
       "      <td>Desktop</td>\n",
       "      <td>479.99</td>\n",
       "      <td>143.39</td>\n",
       "      <td>Flyer 4</td>\n",
       "      <td>April</td>\n",
       "      <td>2020</td>\n",
       "    </tr>\n",
       "    <tr>\n",
       "      <th>37</th>\n",
       "      <td>38</td>\n",
       "      <td>Doug Johnson</td>\n",
       "      <td>M</td>\n",
       "      <td>51</td>\n",
       "      <td>PA</td>\n",
       "      <td>GA401IV</td>\n",
       "      <td>Laptop</td>\n",
       "      <td>1349.99</td>\n",
       "      <td>180.34</td>\n",
       "      <td>Website</td>\n",
       "      <td>May</td>\n",
       "      <td>2020</td>\n",
       "    </tr>\n",
       "    <tr>\n",
       "      <th>38</th>\n",
       "      <td>39</td>\n",
       "      <td>Moe Eggert</td>\n",
       "      <td>M</td>\n",
       "      <td>35</td>\n",
       "      <td>PA</td>\n",
       "      <td>I3593</td>\n",
       "      <td>Laptop</td>\n",
       "      <td>399.99</td>\n",
       "      <td>72.09</td>\n",
       "      <td>Website</td>\n",
       "      <td>May</td>\n",
       "      <td>2020</td>\n",
       "    </tr>\n",
       "  </tbody>\n",
       "</table>\n",
       "</div>"
      ],
      "text/plain": [
       "    Sale ID          Contact Sex  Age State Product ID Product Type  \\\n",
       "34       35   Michelle Samms   F   46    NY    MY2J2LL       Tablet   \n",
       "35       36  Sally Struthers   F   45    NY     81TC00       Laptop   \n",
       "36       37       Jason Case   M   57    PA  M01-F0024      Desktop   \n",
       "37       38     Doug Johnson   M   51    PA    GA401IV       Laptop   \n",
       "38       39       Moe Eggert   M   35    PA      I3593       Laptop   \n",
       "\n",
       "    Sale Price  Profit     Lead  Month  Year  \n",
       "34      999.99  146.69  Website  April  2020  \n",
       "35      649.99  122.34  Website  April  2020  \n",
       "36      479.99  143.39  Flyer 4  April  2020  \n",
       "37     1349.99  180.34  Website    May  2020  \n",
       "38      399.99   72.09  Website    May  2020  "
      ]
     },
     "execution_count": 29,
     "metadata": {},
     "output_type": "execute_result"
    }
   ],
   "source": [
    "df_cs = pd.read_csv('ComputerSales.csv')\n",
    "df_cs.tail()"
   ]
  },
  {
   "cell_type": "code",
   "execution_count": 30,
   "id": "36133552-06b3-416b-b713-6451dac8a750",
   "metadata": {},
   "outputs": [
    {
     "data": {
      "text/html": [
       "<div>\n",
       "<style scoped>\n",
       "    .dataframe tbody tr th:only-of-type {\n",
       "        vertical-align: middle;\n",
       "    }\n",
       "\n",
       "    .dataframe tbody tr th {\n",
       "        vertical-align: top;\n",
       "    }\n",
       "\n",
       "    .dataframe thead th {\n",
       "        text-align: right;\n",
       "    }\n",
       "</style>\n",
       "<table border=\"1\" class=\"dataframe\">\n",
       "  <thead>\n",
       "    <tr style=\"text-align: right;\">\n",
       "      <th></th>\n",
       "      <th>Sale ID</th>\n",
       "      <th>Contact</th>\n",
       "      <th>Sex</th>\n",
       "      <th>Age</th>\n",
       "      <th>State</th>\n",
       "      <th>Product ID</th>\n",
       "      <th>Product Type</th>\n",
       "      <th>Sale Price</th>\n",
       "      <th>Profit</th>\n",
       "      <th>Lead</th>\n",
       "      <th>Month</th>\n",
       "      <th>Year</th>\n",
       "    </tr>\n",
       "  </thead>\n",
       "  <tbody>\n",
       "    <tr>\n",
       "      <th>0</th>\n",
       "      <td>1</td>\n",
       "      <td>Paul Thomas</td>\n",
       "      <td>M</td>\n",
       "      <td>43</td>\n",
       "      <td>OH</td>\n",
       "      <td>M01-F0024</td>\n",
       "      <td>Desktop</td>\n",
       "      <td>479.99</td>\n",
       "      <td>143.39</td>\n",
       "      <td>Website</td>\n",
       "      <td>January</td>\n",
       "      <td>2018</td>\n",
       "    </tr>\n",
       "    <tr>\n",
       "      <th>1</th>\n",
       "      <td>2</td>\n",
       "      <td>Margo Simms</td>\n",
       "      <td>F</td>\n",
       "      <td>37</td>\n",
       "      <td>WV</td>\n",
       "      <td>GT13-0024</td>\n",
       "      <td>Desktop</td>\n",
       "      <td>1249.99</td>\n",
       "      <td>230.89</td>\n",
       "      <td>Flyer 4</td>\n",
       "      <td>January</td>\n",
       "      <td>2018</td>\n",
       "    </tr>\n",
       "    <tr>\n",
       "      <th>2</th>\n",
       "      <td>3</td>\n",
       "      <td>Sam Stine</td>\n",
       "      <td>M</td>\n",
       "      <td>26</td>\n",
       "      <td>PA</td>\n",
       "      <td>I3670</td>\n",
       "      <td>Desktop</td>\n",
       "      <td>649.99</td>\n",
       "      <td>118.64</td>\n",
       "      <td>Website</td>\n",
       "      <td>February</td>\n",
       "      <td>2018</td>\n",
       "    </tr>\n",
       "    <tr>\n",
       "      <th>3</th>\n",
       "      <td>4</td>\n",
       "      <td>Moe Eggert</td>\n",
       "      <td>M</td>\n",
       "      <td>35</td>\n",
       "      <td>PA</td>\n",
       "      <td>I3593</td>\n",
       "      <td>Laptop</td>\n",
       "      <td>399.99</td>\n",
       "      <td>72.09</td>\n",
       "      <td>Website</td>\n",
       "      <td>March</td>\n",
       "      <td>2018</td>\n",
       "    </tr>\n",
       "    <tr>\n",
       "      <th>4</th>\n",
       "      <td>5</td>\n",
       "      <td>Jessica Elk</td>\n",
       "      <td>F</td>\n",
       "      <td>55</td>\n",
       "      <td>PA</td>\n",
       "      <td>15M-ED</td>\n",
       "      <td>Laptop</td>\n",
       "      <td>699.99</td>\n",
       "      <td>98.09</td>\n",
       "      <td>Flyer 4</td>\n",
       "      <td>March</td>\n",
       "      <td>2018</td>\n",
       "    </tr>\n",
       "  </tbody>\n",
       "</table>\n",
       "</div>"
      ],
      "text/plain": [
       "   Sale ID      Contact Sex  Age State Product ID Product Type  Sale Price  \\\n",
       "0        1  Paul Thomas   M   43    OH  M01-F0024      Desktop      479.99   \n",
       "1        2  Margo Simms   F   37    WV  GT13-0024      Desktop     1249.99   \n",
       "2        3    Sam Stine   M   26    PA      I3670      Desktop      649.99   \n",
       "3        4   Moe Eggert   M   35    PA      I3593       Laptop      399.99   \n",
       "4        5  Jessica Elk   F   55    PA     15M-ED       Laptop      699.99   \n",
       "\n",
       "   Profit     Lead     Month  Year  \n",
       "0  143.39  Website   January  2018  \n",
       "1  230.89  Flyer 4   January  2018  \n",
       "2  118.64  Website  February  2018  \n",
       "3   72.09  Website     March  2018  \n",
       "4   98.09  Flyer 4     March  2018  "
      ]
     },
     "execution_count": 30,
     "metadata": {},
     "output_type": "execute_result"
    }
   ],
   "source": [
    "df_cs.head()"
   ]
  },
  {
   "cell_type": "markdown",
   "id": "81d4ea13-1a52-4793-806f-b4e3efdd5c4a",
   "metadata": {},
   "source": [
    "##### a slice of first two"
   ]
  },
  {
   "cell_type": "code",
   "execution_count": 31,
   "id": "2272de5d-cece-4204-944d-fefeeabbce73",
   "metadata": {},
   "outputs": [
    {
     "data": {
      "text/html": [
       "<div>\n",
       "<style scoped>\n",
       "    .dataframe tbody tr th:only-of-type {\n",
       "        vertical-align: middle;\n",
       "    }\n",
       "\n",
       "    .dataframe tbody tr th {\n",
       "        vertical-align: top;\n",
       "    }\n",
       "\n",
       "    .dataframe thead th {\n",
       "        text-align: right;\n",
       "    }\n",
       "</style>\n",
       "<table border=\"1\" class=\"dataframe\">\n",
       "  <thead>\n",
       "    <tr style=\"text-align: right;\">\n",
       "      <th></th>\n",
       "      <th>Sale ID</th>\n",
       "      <th>Contact</th>\n",
       "      <th>Sex</th>\n",
       "      <th>Age</th>\n",
       "      <th>State</th>\n",
       "      <th>Product ID</th>\n",
       "      <th>Product Type</th>\n",
       "      <th>Sale Price</th>\n",
       "      <th>Profit</th>\n",
       "      <th>Lead</th>\n",
       "      <th>Month</th>\n",
       "      <th>Year</th>\n",
       "    </tr>\n",
       "  </thead>\n",
       "  <tbody>\n",
       "    <tr>\n",
       "      <th>0</th>\n",
       "      <td>1</td>\n",
       "      <td>Paul Thomas</td>\n",
       "      <td>M</td>\n",
       "      <td>43</td>\n",
       "      <td>OH</td>\n",
       "      <td>M01-F0024</td>\n",
       "      <td>Desktop</td>\n",
       "      <td>479.99</td>\n",
       "      <td>143.39</td>\n",
       "      <td>Website</td>\n",
       "      <td>January</td>\n",
       "      <td>2018</td>\n",
       "    </tr>\n",
       "    <tr>\n",
       "      <th>1</th>\n",
       "      <td>2</td>\n",
       "      <td>Margo Simms</td>\n",
       "      <td>F</td>\n",
       "      <td>37</td>\n",
       "      <td>WV</td>\n",
       "      <td>GT13-0024</td>\n",
       "      <td>Desktop</td>\n",
       "      <td>1249.99</td>\n",
       "      <td>230.89</td>\n",
       "      <td>Flyer 4</td>\n",
       "      <td>January</td>\n",
       "      <td>2018</td>\n",
       "    </tr>\n",
       "  </tbody>\n",
       "</table>\n",
       "</div>"
      ],
      "text/plain": [
       "   Sale ID      Contact Sex  Age State Product ID Product Type  Sale Price  \\\n",
       "0        1  Paul Thomas   M   43    OH  M01-F0024      Desktop      479.99   \n",
       "1        2  Margo Simms   F   37    WV  GT13-0024      Desktop     1249.99   \n",
       "\n",
       "   Profit     Lead    Month  Year  \n",
       "0  143.39  Website  January  2018  \n",
       "1  230.89  Flyer 4  January  2018  "
      ]
     },
     "execution_count": 31,
     "metadata": {},
     "output_type": "execute_result"
    }
   ],
   "source": [
    "df_cs[:2]"
   ]
  },
  {
   "cell_type": "code",
   "execution_count": 32,
   "id": "472320f6-8875-4caa-ab28-531691d759e9",
   "metadata": {},
   "outputs": [
    {
     "data": {
      "text/html": [
       "<div>\n",
       "<style scoped>\n",
       "    .dataframe tbody tr th:only-of-type {\n",
       "        vertical-align: middle;\n",
       "    }\n",
       "\n",
       "    .dataframe tbody tr th {\n",
       "        vertical-align: top;\n",
       "    }\n",
       "\n",
       "    .dataframe thead th {\n",
       "        text-align: right;\n",
       "    }\n",
       "</style>\n",
       "<table border=\"1\" class=\"dataframe\">\n",
       "  <thead>\n",
       "    <tr style=\"text-align: right;\">\n",
       "      <th></th>\n",
       "      <th>Sale ID</th>\n",
       "      <th>Contact</th>\n",
       "      <th>Sex</th>\n",
       "      <th>Age</th>\n",
       "      <th>State</th>\n",
       "      <th>Product ID</th>\n",
       "      <th>Product Type</th>\n",
       "      <th>Sale Price</th>\n",
       "      <th>Profit</th>\n",
       "      <th>Lead</th>\n",
       "      <th>Month</th>\n",
       "      <th>Year</th>\n",
       "    </tr>\n",
       "  </thead>\n",
       "  <tbody>\n",
       "    <tr>\n",
       "      <th>0</th>\n",
       "      <td>1</td>\n",
       "      <td>Paul Thomas</td>\n",
       "      <td>M</td>\n",
       "      <td>43</td>\n",
       "      <td>OH</td>\n",
       "      <td>M01-F0024</td>\n",
       "      <td>Desktop</td>\n",
       "      <td>479.99</td>\n",
       "      <td>143.39</td>\n",
       "      <td>Website</td>\n",
       "      <td>January</td>\n",
       "      <td>2018</td>\n",
       "    </tr>\n",
       "    <tr>\n",
       "      <th>2</th>\n",
       "      <td>3</td>\n",
       "      <td>Sam Stine</td>\n",
       "      <td>M</td>\n",
       "      <td>26</td>\n",
       "      <td>PA</td>\n",
       "      <td>I3670</td>\n",
       "      <td>Desktop</td>\n",
       "      <td>649.99</td>\n",
       "      <td>118.64</td>\n",
       "      <td>Website</td>\n",
       "      <td>February</td>\n",
       "      <td>2018</td>\n",
       "    </tr>\n",
       "    <tr>\n",
       "      <th>4</th>\n",
       "      <td>5</td>\n",
       "      <td>Jessica Elk</td>\n",
       "      <td>F</td>\n",
       "      <td>55</td>\n",
       "      <td>PA</td>\n",
       "      <td>15M-ED</td>\n",
       "      <td>Laptop</td>\n",
       "      <td>699.99</td>\n",
       "      <td>98.09</td>\n",
       "      <td>Flyer 4</td>\n",
       "      <td>March</td>\n",
       "      <td>2018</td>\n",
       "    </tr>\n",
       "  </tbody>\n",
       "</table>\n",
       "</div>"
      ],
      "text/plain": [
       "   Sale ID      Contact Sex  Age State Product ID Product Type  Sale Price  \\\n",
       "0        1  Paul Thomas   M   43    OH  M01-F0024      Desktop      479.99   \n",
       "2        3    Sam Stine   M   26    PA      I3670      Desktop      649.99   \n",
       "4        5  Jessica Elk   F   55    PA     15M-ED       Laptop      699.99   \n",
       "\n",
       "   Profit     Lead     Month  Year  \n",
       "0  143.39  Website   January  2018  \n",
       "2  118.64  Website  February  2018  \n",
       "4   98.09  Flyer 4     March  2018  "
      ]
     },
     "execution_count": 32,
     "metadata": {},
     "output_type": "execute_result"
    }
   ],
   "source": [
    "df_cs[:5:2]   ### step 2"
   ]
  },
  {
   "cell_type": "code",
   "execution_count": 33,
   "id": "1b6b7752-79f9-4105-b86e-c70c7758e7ae",
   "metadata": {},
   "outputs": [
    {
     "data": {
      "text/plain": [
       "<NumpyExtensionArray>\n",
       "[ 0,  1,  2,  3,  4,  5,  6,  7,  8,  9, 10, 11, 12, 13, 14, 15, 16, 17, 18,\n",
       " 19, 20, 21, 22, 23, 24, 25, 26, 27, 28, 29, 30, 31, 32, 33, 34, 35, 36, 37,\n",
       " 38]\n",
       "Length: 39, dtype: int64"
      ]
     },
     "execution_count": 33,
     "metadata": {},
     "output_type": "execute_result"
    }
   ],
   "source": [
    "### get index; note this is a numpy array, an n-D general data structure while \n",
    "### DataFrame in Pandas is specialized 2-D data structure; \n",
    "### since pandas is built on numpy, dataframes are collection of numpy arrays\n",
    "### the renaming was done in 2023: https://github.com/pandas-dev/pandas/issues/53694\n",
    "df_cs.index.array    "
   ]
  },
  {
   "cell_type": "code",
   "execution_count": 34,
   "id": "b1ad9e9e-6431-4292-b36f-aa0fe4ea7105",
   "metadata": {
    "scrolled": true
   },
   "outputs": [
    {
     "data": {
      "text/plain": [
       "array([[1, 'Paul Thomas', 'M', 43, 'OH', 'M01-F0024', 'Desktop', 479.99,\n",
       "        143.39, 'Website', 'January', 2018],\n",
       "       [2, 'Margo Simms', 'F', 37, 'WV', 'GT13-0024', 'Desktop', 1249.99,\n",
       "        230.89, 'Flyer 4', 'January', 2018],\n",
       "       [3, 'Sam Stine', 'M', 26, 'PA', 'I3670', 'Desktop', 649.99,\n",
       "        118.64, 'Website', 'February', 2018],\n",
       "       [4, 'Moe Eggert', 'M', 35, 'PA', 'I3593', 'Laptop', 399.99, 72.09,\n",
       "        'Website', 'March', 2018],\n",
       "       [5, 'Jessica Elk', 'F', 55, 'PA', '15M-ED', 'Laptop', 699.99,\n",
       "        98.09, 'Flyer 4', 'March', 2018],\n",
       "       [6, 'Sally Struthers', 'F', 45, 'PA', 'GT13-0024', 'Desktop',\n",
       "        1249.99, 230.89, 'Flyer 2', 'April', 2018],\n",
       "       [7, 'Michelle Samms', 'F', 46, 'OH', 'GA401IV', 'Laptop', 1349.99,\n",
       "        180.34, 'Email', 'May', 2018],\n",
       "       [8, 'Mick Roberts', 'M', 23, 'OH', 'MY2J2LL', 'Tablet', 999.99,\n",
       "        146.69, 'Website', 'July', 2018],\n",
       "       [9, 'Ed Klondike', 'M', 52, 'OH', '81TC00', 'Laptop', 649.99,\n",
       "        122.34, 'Email', 'July', 2018],\n",
       "       [10, 'Phil Jones', 'M', 56, 'WV', 'M01-F0024', 'Desktop', 479.99,\n",
       "        143.39, 'Flyer 2', 'August', 2018],\n",
       "       [11, 'Rick James', 'M', 49, 'PA', 'GA401IV', 'Laptop', 1349.99,\n",
       "        180.34, 'Flyer 3', 'November', 2018],\n",
       "       [12, 'Sue Etna', 'F', 54, 'OH', 'GT13-0024', 'Desktop', 1249.99,\n",
       "        230.89, 'Flyer 2', 'November', 2018],\n",
       "       [13, 'Jason Case', 'M', 57, 'PA', '81TC00', 'Laptop', 649.99,\n",
       "        122.34, 'Email', 'November', 2018],\n",
       "       [14, 'Doug Johnson', 'M', 51, 'PA', 'I3670', 'Desktop', 649.99,\n",
       "        118.64, 'Website', 'December', 2018],\n",
       "       [15, 'Andy Sands', 'M', 56, 'OH', 'MY2J2LL', 'Tablet', 999.99,\n",
       "        146.69, 'Flyer 1', 'December', 2018],\n",
       "       [16, 'Kim Collins', 'F', 49, 'PA', 'I3593', 'Laptop', 399.99,\n",
       "        72.09, 'Flyer 2', 'January', 2019],\n",
       "       [17, 'Edna Sanders', 'F', 46, 'OH', '15M-ED', 'Laptop', 699.99,\n",
       "        98.09, 'Email', 'February', 2019],\n",
       "       [18, 'Michelle Samms', 'F', 46, 'NY', 'MY2J2LL', 'Tablet', 999.99,\n",
       "        146.69, 'Website', 'March', 2019],\n",
       "       [19, 'Mick Roberts', 'M', 23, 'PA', 'I3593', 'Laptop', 399.99,\n",
       "        72.09, 'Flyer 4', 'March', 2019],\n",
       "       [20, 'Sally Struthers', 'F', 45, 'NY', '81TC00', 'Laptop', 649.99,\n",
       "        122.34, 'Website', 'April', 2019],\n",
       "       [21, 'Jason Case', 'M', 57, 'PA', 'M01-F0024', 'Desktop', 479.99,\n",
       "        143.39, 'Flyer 4', 'May', 2019],\n",
       "       [22, 'Doug Johnson', 'M', 51, 'PA', 'GA401IV', 'Laptop', 1349.99,\n",
       "        180.34, 'Website', 'August', 2019],\n",
       "       [23, 'Paul Thomas', 'M', 43, 'OH', '81TC00', 'Laptop', 649.99,\n",
       "        122.34, 'Website', 'August', 2019],\n",
       "       [24, 'Margo Simms', 'F', 37, 'WV', 'Q526FA', 'Laptop', 1049.99,\n",
       "        143.09, 'Flyer 4', 'November', 2019],\n",
       "       [25, 'Michelle Samms', 'F', 46, 'NY', 'I3670', 'Desktop', 649.99,\n",
       "        118.64, 'Flyer 2', 'November', 2019],\n",
       "       [26, 'Mick Roberts', 'M', 23, 'PA', 'Q526FA', 'Laptop', 1049.99,\n",
       "        143.09, 'Email', 'November', 2019],\n",
       "       [27, 'Ed Klondike', 'M', 52, 'OH', 'Q526FA', 'Laptop', 1049.99,\n",
       "        143.09, 'Website', 'December', 2019],\n",
       "       [28, 'Moe Eggert', 'M', 35, 'PA', '15M-ED', 'Laptop', 699.99,\n",
       "        98.09, 'Email', 'December', 2019],\n",
       "       [29, 'Jessica Elk', 'F', 55, 'PA', 'GA401IV', 'Laptop', 1349.99,\n",
       "        180.34, 'Flyer 2', 'December', 2019],\n",
       "       [30, 'Phil Jones', 'M', 56, 'WV', 'M01-F0024', 'Desktop', 479.99,\n",
       "        143.39, 'Flyer 2', 'January', 2020],\n",
       "       [31, 'Rick James', 'M', 49, 'PA', 'GA401IV', 'Laptop', 1349.99,\n",
       "        180.34, 'Flyer 1', 'January', 2020],\n",
       "       [32, 'Sue Etna', 'F', 54, 'OH', 'GT13-0024', 'Desktop', 1249.99,\n",
       "        230.89, 'Flyer 2', 'February', 2020],\n",
       "       [33, 'Kim Collins', 'F', 49, 'PA', 'I3593', 'Laptop', 399.99,\n",
       "        72.09, 'Flyer 2', 'March', 2020],\n",
       "       [34, 'Edna Sanders', 'F', 46, 'OH', '15M-ED', 'Laptop', 699.99,\n",
       "        98.09, 'Email', 'March', 2020],\n",
       "       [35, 'Michelle Samms', 'F', 46, 'NY', 'MY2J2LL', 'Tablet', 999.99,\n",
       "        146.69, 'Website', 'April', 2020],\n",
       "       [36, 'Sally Struthers', 'F', 45, 'NY', '81TC00', 'Laptop', 649.99,\n",
       "        122.34, 'Website', 'April', 2020],\n",
       "       [37, 'Jason Case', 'M', 57, 'PA', 'M01-F0024', 'Desktop', 479.99,\n",
       "        143.39, 'Flyer 4', 'April', 2020],\n",
       "       [38, 'Doug Johnson', 'M', 51, 'PA', 'GA401IV', 'Laptop', 1349.99,\n",
       "        180.34, 'Website', 'May', 2020],\n",
       "       [39, 'Moe Eggert', 'M', 35, 'PA', 'I3593', 'Laptop', 399.99,\n",
       "        72.09, 'Website', 'May', 2020]], dtype=object)"
      ]
     },
     "execution_count": 34,
     "metadata": {},
     "output_type": "execute_result"
    }
   ],
   "source": [
    "### showing that dataframes are collection of numpy arrays\n",
    "### for a quick comparison between numpy array and list: https://www.geeksforgeeks.org/python-lists-vs-numpy-arrays/\n",
    "df_cs.to_numpy()"
   ]
  },
  {
   "cell_type": "code",
   "execution_count": null,
   "id": "415a9ed8-2b67-4f55-8c05-ca764c821779",
   "metadata": {},
   "outputs": [],
   "source": [
    "### create series from data frame; note that index=[] is omitted here\n",
    "pd.Series(df_cs['Contact'].values)"
   ]
  },
  {
   "cell_type": "code",
   "execution_count": 63,
   "id": "0710fa1e-cb42-441b-ae77-f5b1d9b895ac",
   "metadata": {
    "scrolled": true
   },
   "outputs": [
    {
     "data": {
      "text/plain": [
       "Sale ID\n",
       "1         Paul Thomas\n",
       "2         Margo Simms\n",
       "3           Sam Stine\n",
       "4          Moe Eggert\n",
       "5         Jessica Elk\n",
       "6     Sally Struthers\n",
       "7      Michelle Samms\n",
       "8        Mick Roberts\n",
       "9         Ed Klondike\n",
       "10         Phil Jones\n",
       "11         Rick James\n",
       "12           Sue Etna\n",
       "13         Jason Case\n",
       "14       Doug Johnson\n",
       "15         Andy Sands\n",
       "16        Kim Collins\n",
       "17       Edna Sanders\n",
       "18     Michelle Samms\n",
       "19       Mick Roberts\n",
       "20    Sally Struthers\n",
       "21         Jason Case\n",
       "22       Doug Johnson\n",
       "23        Paul Thomas\n",
       "24        Margo Simms\n",
       "25     Michelle Samms\n",
       "26       Mick Roberts\n",
       "27        Ed Klondike\n",
       "28         Moe Eggert\n",
       "29        Jessica Elk\n",
       "30         Phil Jones\n",
       "31         Rick James\n",
       "32           Sue Etna\n",
       "33        Kim Collins\n",
       "34       Edna Sanders\n",
       "35     Michelle Samms\n",
       "36    Sally Struthers\n",
       "37         Jason Case\n",
       "38       Doug Johnson\n",
       "39         Moe Eggert\n",
       "dtype: object"
      ]
     },
     "execution_count": 63,
     "metadata": {},
     "output_type": "execute_result"
    }
   ],
   "source": [
    "### we are using Sale ID as index and it starts from 1 instead of 0\n",
    "pd.Series(df_cs['Contact'].values, index=df_cs['Sale ID'])"
   ]
  },
  {
   "cell_type": "code",
   "execution_count": 41,
   "id": "1a755a18-3700-48fe-a09a-b9a6d3244e36",
   "metadata": {},
   "outputs": [
    {
     "name": "stdout",
     "output_type": "stream",
     "text": [
      "   one  two\n",
      "a  1.0  1.0\n",
      "b  2.0  2.0\n",
      "c  3.0  3.0\n",
      "d  NaN  4.0\n"
     ]
    }
   ],
   "source": [
    "### create a dictionary\n",
    "dict = {'one': pd.Series([1.,2.,3.], index=['a','b','c']), \n",
    "        'two': pd.Series([1.,2.,3.,4.], index=['a','b','c','d'])\n",
    "       }\n",
    "\n",
    "### create a dataframe from the dictionary\n",
    "df=pd.DataFrame(dict)\n",
    "print(df)"
   ]
  },
  {
   "cell_type": "code",
   "execution_count": 44,
   "id": "f9a5f285-3937-4998-a9ce-c34de9e1fb54",
   "metadata": {},
   "outputs": [
    {
     "name": "stdout",
     "output_type": "stream",
     "text": [
      "   one  two\n",
      "a  1.0  1.0\n",
      "b  2.0  2.0\n",
      "c  3.0  3.0\n",
      "d  0.0  4.0\n"
     ]
    }
   ],
   "source": [
    "### replacing NaN with 0\n",
    "print(df.fillna(0))"
   ]
  },
  {
   "cell_type": "code",
   "execution_count": 46,
   "id": "753b0d65-0bee-473f-89c0-2f8eb1c61f31",
   "metadata": {},
   "outputs": [
    {
     "data": {
      "text/plain": [
       "one    2.0\n",
       "two    2.0\n",
       "Name: b, dtype: float64"
      ]
     },
     "execution_count": 46,
     "metadata": {},
     "output_type": "execute_result"
    }
   ],
   "source": [
    "### pandas dataframe iloc == integer location\n",
    "df.iloc[1]"
   ]
  },
  {
   "cell_type": "code",
   "execution_count": 56,
   "id": "723e7295-e0d4-4360-9226-24d654f8b573",
   "metadata": {},
   "outputs": [
    {
     "name": "stdout",
     "output_type": "stream",
     "text": [
      "   one  two\n",
      "a  3.0  3.0\n",
      "b  4.0  4.0\n",
      "c  5.0  5.0\n",
      "d  2.0  6.0\n"
     ]
    },
    {
     "data": {
      "text/html": [
       "<div>\n",
       "<style scoped>\n",
       "    .dataframe tbody tr th:only-of-type {\n",
       "        vertical-align: middle;\n",
       "    }\n",
       "\n",
       "    .dataframe tbody tr th {\n",
       "        vertical-align: top;\n",
       "    }\n",
       "\n",
       "    .dataframe thead th {\n",
       "        text-align: right;\n",
       "    }\n",
       "</style>\n",
       "<table border=\"1\" class=\"dataframe\">\n",
       "  <thead>\n",
       "    <tr style=\"text-align: right;\">\n",
       "      <th></th>\n",
       "      <th>one</th>\n",
       "      <th>two</th>\n",
       "    </tr>\n",
       "  </thead>\n",
       "  <tbody>\n",
       "    <tr>\n",
       "      <th>a</th>\n",
       "      <td>0.0</td>\n",
       "      <td>0.0</td>\n",
       "    </tr>\n",
       "    <tr>\n",
       "      <th>b</th>\n",
       "      <td>0.0</td>\n",
       "      <td>0.0</td>\n",
       "    </tr>\n",
       "    <tr>\n",
       "      <th>c</th>\n",
       "      <td>0.0</td>\n",
       "      <td>0.0</td>\n",
       "    </tr>\n",
       "    <tr>\n",
       "      <th>d</th>\n",
       "      <td>-4.0</td>\n",
       "      <td>0.0</td>\n",
       "    </tr>\n",
       "  </tbody>\n",
       "</table>\n",
       "</div>"
      ],
      "text/plain": [
       "   one  two\n",
       "a  0.0  0.0\n",
       "b  0.0  0.0\n",
       "c  0.0  0.0\n",
       "d -4.0  0.0"
      ]
     },
     "execution_count": 56,
     "metadata": {},
     "output_type": "execute_result"
    }
   ],
   "source": [
    "### use inplace so that d:one is an integer\n",
    "### add, sub function of df\n",
    "df.fillna(0, inplace=True)\n",
    "row = df.iloc[1]\n",
    "df_add_row = df.add(row, axis='columns')\n",
    "print(df_add_row)\n",
    "col = df['two']\n",
    "df.sub(col, axis=0)"
   ]
  },
  {
   "cell_type": "code",
   "execution_count": 59,
   "id": "277469d6-82b5-40d7-b174-bcfacb75cc78",
   "metadata": {},
   "outputs": [
    {
     "data": {
      "text/plain": [
       "False"
      ]
     },
     "execution_count": 59,
     "metadata": {},
     "output_type": "execute_result"
    }
   ],
   "source": [
    "### is df empty?\n",
    "### see: https://pandas.pydata.org/docs/reference/frame.html\n",
    "df.empty"
   ]
  },
  {
   "cell_type": "code",
   "execution_count": 62,
   "id": "48ac935f-88a4-437a-b06e-e683e2ca9cc2",
   "metadata": {},
   "outputs": [
    {
     "data": {
      "text/html": [
       "<div>\n",
       "<style scoped>\n",
       "    .dataframe tbody tr th:only-of-type {\n",
       "        vertical-align: middle;\n",
       "    }\n",
       "\n",
       "    .dataframe tbody tr th {\n",
       "        vertical-align: top;\n",
       "    }\n",
       "\n",
       "    .dataframe thead th {\n",
       "        text-align: right;\n",
       "    }\n",
       "</style>\n",
       "<table border=\"1\" class=\"dataframe\">\n",
       "  <thead>\n",
       "    <tr style=\"text-align: right;\">\n",
       "      <th></th>\n",
       "      <th>A</th>\n",
       "      <th>B</th>\n",
       "    </tr>\n",
       "  </thead>\n",
       "  <tbody>\n",
       "    <tr>\n",
       "      <th>0</th>\n",
       "      <td>0</td>\n",
       "      <td>1</td>\n",
       "    </tr>\n",
       "    <tr>\n",
       "      <th>1</th>\n",
       "      <td>1</td>\n",
       "      <td>2</td>\n",
       "    </tr>\n",
       "    <tr>\n",
       "      <th>2</th>\n",
       "      <td>2</td>\n",
       "      <td>3</td>\n",
       "    </tr>\n",
       "  </tbody>\n",
       "</table>\n",
       "</div>"
      ],
      "text/plain": [
       "   A  B\n",
       "0  0  1\n",
       "1  1  2\n",
       "2  2  3"
      ]
     },
     "execution_count": 62,
     "metadata": {},
     "output_type": "execute_result"
    }
   ],
   "source": [
    "##### transform\n",
    "pd.DataFrame({'A': range(3), 'B': range(1,4)})"
   ]
  },
  {
   "cell_type": "code",
   "execution_count": 65,
   "id": "58daeb62-08b1-4e40-8d1c-c0c87ed85353",
   "metadata": {},
   "outputs": [
    {
     "data": {
      "text/html": [
       "<div>\n",
       "<style scoped>\n",
       "    .dataframe tbody tr th:only-of-type {\n",
       "        vertical-align: middle;\n",
       "    }\n",
       "\n",
       "    .dataframe tbody tr th {\n",
       "        vertical-align: top;\n",
       "    }\n",
       "\n",
       "    .dataframe thead th {\n",
       "        text-align: right;\n",
       "    }\n",
       "</style>\n",
       "<table border=\"1\" class=\"dataframe\">\n",
       "  <thead>\n",
       "    <tr style=\"text-align: right;\">\n",
       "      <th></th>\n",
       "      <th>A</th>\n",
       "      <th>B</th>\n",
       "    </tr>\n",
       "  </thead>\n",
       "  <tbody>\n",
       "    <tr>\n",
       "      <th>0</th>\n",
       "      <td>1</td>\n",
       "      <td>2</td>\n",
       "    </tr>\n",
       "    <tr>\n",
       "      <th>1</th>\n",
       "      <td>2</td>\n",
       "      <td>3</td>\n",
       "    </tr>\n",
       "    <tr>\n",
       "      <th>2</th>\n",
       "      <td>3</td>\n",
       "      <td>4</td>\n",
       "    </tr>\n",
       "  </tbody>\n",
       "</table>\n",
       "</div>"
      ],
      "text/plain": [
       "   A  B\n",
       "0  1  2\n",
       "1  2  3\n",
       "2  3  4"
      ]
     },
     "execution_count": 65,
     "metadata": {},
     "output_type": "execute_result"
    }
   ],
   "source": [
    "df = pd.DataFrame({'A': range(3), 'B': range(1,4)})\n",
    "df.transform(lambda x: x+1)"
   ]
  },
  {
   "cell_type": "code",
   "execution_count": 68,
   "id": "5ecd6b72-386b-4f76-8b6f-101adce2932b",
   "metadata": {},
   "outputs": [
    {
     "data": {
      "text/html": [
       "<div>\n",
       "<style scoped>\n",
       "    .dataframe tbody tr th:only-of-type {\n",
       "        vertical-align: middle;\n",
       "    }\n",
       "\n",
       "    .dataframe tbody tr th {\n",
       "        vertical-align: top;\n",
       "    }\n",
       "\n",
       "    .dataframe thead th {\n",
       "        text-align: right;\n",
       "    }\n",
       "</style>\n",
       "<table border=\"1\" class=\"dataframe\">\n",
       "  <thead>\n",
       "    <tr style=\"text-align: right;\">\n",
       "      <th></th>\n",
       "      <th>A</th>\n",
       "      <th>B</th>\n",
       "    </tr>\n",
       "  </thead>\n",
       "  <tbody>\n",
       "    <tr>\n",
       "      <th>0</th>\n",
       "      <td>0.000000</td>\n",
       "      <td>1.000000</td>\n",
       "    </tr>\n",
       "    <tr>\n",
       "      <th>1</th>\n",
       "      <td>1.000000</td>\n",
       "      <td>1.414214</td>\n",
       "    </tr>\n",
       "    <tr>\n",
       "      <th>2</th>\n",
       "      <td>1.414214</td>\n",
       "      <td>1.732051</td>\n",
       "    </tr>\n",
       "  </tbody>\n",
       "</table>\n",
       "</div>"
      ],
      "text/plain": [
       "          A         B\n",
       "0  0.000000  1.000000\n",
       "1  1.000000  1.414214\n",
       "2  1.414214  1.732051"
      ]
     },
     "execution_count": 68,
     "metadata": {},
     "output_type": "execute_result"
    }
   ],
   "source": [
    "##### here we need numpy\n",
    "import numpy as np\n",
    "df.transform(lambda x: np.sqrt(x))"
   ]
  },
  {
   "cell_type": "code",
   "execution_count": 71,
   "id": "c4cfe8a6-fd63-4523-838c-9a758da04943",
   "metadata": {},
   "outputs": [
    {
     "data": {
      "text/html": [
       "<div>\n",
       "<style scoped>\n",
       "    .dataframe tbody tr th:only-of-type {\n",
       "        vertical-align: middle;\n",
       "    }\n",
       "\n",
       "    .dataframe tbody tr th {\n",
       "        vertical-align: top;\n",
       "    }\n",
       "\n",
       "    .dataframe thead tr th {\n",
       "        text-align: left;\n",
       "    }\n",
       "</style>\n",
       "<table border=\"1\" class=\"dataframe\">\n",
       "  <thead>\n",
       "    <tr>\n",
       "      <th></th>\n",
       "      <th>A</th>\n",
       "      <th>B</th>\n",
       "    </tr>\n",
       "    <tr>\n",
       "      <th></th>\n",
       "      <th>&lt;lambda&gt;</th>\n",
       "      <th>&lt;lambda&gt;</th>\n",
       "    </tr>\n",
       "  </thead>\n",
       "  <tbody>\n",
       "    <tr>\n",
       "      <th>0</th>\n",
       "      <td>0</td>\n",
       "      <td>1</td>\n",
       "    </tr>\n",
       "    <tr>\n",
       "      <th>1</th>\n",
       "      <td>1</td>\n",
       "      <td>8</td>\n",
       "    </tr>\n",
       "    <tr>\n",
       "      <th>2</th>\n",
       "      <td>8</td>\n",
       "      <td>27</td>\n",
       "    </tr>\n",
       "  </tbody>\n",
       "</table>\n",
       "</div>"
      ],
      "text/plain": [
       "         A        B\n",
       "  <lambda> <lambda>\n",
       "0        0        1\n",
       "1        1        8\n",
       "2        8       27"
      ]
     },
     "execution_count": 71,
     "metadata": {},
     "output_type": "execute_result"
    }
   ],
   "source": [
    "### use list for multiple transform\n",
    "df.transform([lambda x: x**2, lambda x: x**3])"
   ]
  },
  {
   "cell_type": "code",
   "execution_count": 73,
   "id": "936ed8a9-dc26-4d63-b8dc-1d5ce3b92cb8",
   "metadata": {},
   "outputs": [
    {
     "data": {
      "text/html": [
       "<div>\n",
       "<style scoped>\n",
       "    .dataframe tbody tr th:only-of-type {\n",
       "        vertical-align: middle;\n",
       "    }\n",
       "\n",
       "    .dataframe tbody tr th {\n",
       "        vertical-align: top;\n",
       "    }\n",
       "\n",
       "    .dataframe thead th {\n",
       "        text-align: right;\n",
       "    }\n",
       "</style>\n",
       "<table border=\"1\" class=\"dataframe\">\n",
       "  <thead>\n",
       "    <tr style=\"text-align: right;\">\n",
       "      <th></th>\n",
       "      <th>A</th>\n",
       "      <th>B</th>\n",
       "    </tr>\n",
       "  </thead>\n",
       "  <tbody>\n",
       "    <tr>\n",
       "      <th>0</th>\n",
       "      <td>0</td>\n",
       "      <td>1</td>\n",
       "    </tr>\n",
       "    <tr>\n",
       "      <th>1</th>\n",
       "      <td>1</td>\n",
       "      <td>8</td>\n",
       "    </tr>\n",
       "    <tr>\n",
       "      <th>2</th>\n",
       "      <td>4</td>\n",
       "      <td>27</td>\n",
       "    </tr>\n",
       "  </tbody>\n",
       "</table>\n",
       "</div>"
      ],
      "text/plain": [
       "   A   B\n",
       "0  0   1\n",
       "1  1   8\n",
       "2  4  27"
      ]
     },
     "execution_count": 73,
     "metadata": {},
     "output_type": "execute_result"
    }
   ],
   "source": [
    "##### passing a dictionary (instead of a list) to allow different calculation on different calls\n",
    "df.transform({'A': lambda x: x**2, 'B': lambda x: x**3})"
   ]
  },
  {
   "cell_type": "code",
   "execution_count": 74,
   "id": "82a45765-012a-42ff-94aa-176a5aaaf0ac",
   "metadata": {},
   "outputs": [
    {
     "data": {
      "text/plain": [
       "0    0\n",
       "1    1\n",
       "2    4\n",
       "Name: A, dtype: int64"
      ]
     },
     "execution_count": 74,
     "metadata": {},
     "output_type": "execute_result"
    }
   ],
   "source": [
    "### performing a function on a series\n",
    "df['A'].map(lambda x: x**2)"
   ]
  },
  {
   "cell_type": "code",
   "execution_count": 76,
   "id": "2b81cc5d-6187-479b-a143-d944269698c1",
   "metadata": {},
   "outputs": [
    {
     "name": "stderr",
     "output_type": "stream",
     "text": [
      "/var/folders/6t/bfp06fh96wn60n_mjtxmbhfm0000gn/T/ipykernel_74148/1911323247.py:1: FutureWarning: DataFrame.applymap has been deprecated. Use DataFrame.map instead.\n",
      "  df.applymap(lambda x: x**2)\n"
     ]
    },
    {
     "data": {
      "text/html": [
       "<div>\n",
       "<style scoped>\n",
       "    .dataframe tbody tr th:only-of-type {\n",
       "        vertical-align: middle;\n",
       "    }\n",
       "\n",
       "    .dataframe tbody tr th {\n",
       "        vertical-align: top;\n",
       "    }\n",
       "\n",
       "    .dataframe thead th {\n",
       "        text-align: right;\n",
       "    }\n",
       "</style>\n",
       "<table border=\"1\" class=\"dataframe\">\n",
       "  <thead>\n",
       "    <tr style=\"text-align: right;\">\n",
       "      <th></th>\n",
       "      <th>A</th>\n",
       "      <th>B</th>\n",
       "    </tr>\n",
       "  </thead>\n",
       "  <tbody>\n",
       "    <tr>\n",
       "      <th>0</th>\n",
       "      <td>0</td>\n",
       "      <td>1</td>\n",
       "    </tr>\n",
       "    <tr>\n",
       "      <th>1</th>\n",
       "      <td>1</td>\n",
       "      <td>4</td>\n",
       "    </tr>\n",
       "    <tr>\n",
       "      <th>2</th>\n",
       "      <td>4</td>\n",
       "      <td>9</td>\n",
       "    </tr>\n",
       "  </tbody>\n",
       "</table>\n",
       "</div>"
      ],
      "text/plain": [
       "   A  B\n",
       "0  0  1\n",
       "1  1  4\n",
       "2  4  9"
      ]
     },
     "execution_count": 76,
     "metadata": {},
     "output_type": "execute_result"
    }
   ],
   "source": [
    "### for a df, \n",
    "df.applymap(lambda x: x**2)"
   ]
  },
  {
   "cell_type": "code",
   "execution_count": 90,
   "id": "a036af48-7c37-4126-a2e1-8633a012a9f6",
   "metadata": {},
   "outputs": [
    {
     "name": "stdout",
     "output_type": "stream",
     "text": [
      "   one  two\n",
      "a  1.0  1.0\n",
      "b  2.0  2.0\n",
      "c  3.0  3.0\n",
      "d  NaN  4.0\n"
     ]
    },
    {
     "data": {
      "text/plain": [
       "array([1., 2., 3., 4.])"
      ]
     },
     "execution_count": 90,
     "metadata": {},
     "output_type": "execute_result"
    }
   ],
   "source": [
    "### use the dict again\n",
    "### create a dictionary (because we should use different variable names)\n",
    "dict = {'one': pd.Series([1.,2.,3.], index=['a','b','c']), \n",
    "        'two': pd.Series([1.,2.,3.,4.], index=['a','b','c','d'])\n",
    "       }\n",
    "### create a dataframe from the dictionary\n",
    "df=pd.DataFrame(dict)\n",
    "\n",
    "### take a look at the dict\n",
    "print(df)\n",
    "\n",
    "### get unique values\n",
    "df['two'].unique()"
   ]
  },
  {
   "cell_type": "code",
   "execution_count": 87,
   "id": "9c5f081e-5e97-4016-82da-6e91f751ee01",
   "metadata": {},
   "outputs": [
    {
     "data": {
      "text/plain": [
       "4"
      ]
     },
     "execution_count": 87,
     "metadata": {},
     "output_type": "execute_result"
    }
   ],
   "source": [
    "### num of \n",
    "df['two'].nunique()"
   ]
  },
  {
   "cell_type": "code",
   "execution_count": 94,
   "id": "75799f94-e80c-4e93-bb25-a859639e9418",
   "metadata": {},
   "outputs": [
    {
     "name": "stdout",
     "output_type": "stream",
     "text": [
      "one\n",
      "1.0    1\n",
      "2.0    1\n",
      "3.0    1\n",
      "Name: count, dtype: int64\n"
     ]
    },
    {
     "data": {
      "text/plain": [
       "two\n",
       "1.0    1\n",
       "2.0    1\n",
       "3.0    1\n",
       "4.0    1\n",
       "Name: count, dtype: int64"
      ]
     },
     "execution_count": 94,
     "metadata": {},
     "output_type": "execute_result"
    }
   ],
   "source": [
    "### value count\n",
    "col_one = df['one'].value_counts()\n",
    "print(col_one)\n",
    "df['two'].value_counts()"
   ]
  },
  {
   "cell_type": "code",
   "execution_count": 95,
   "id": "b777c026-3c35-4b4c-bb3e-e72981b9af2b",
   "metadata": {},
   "outputs": [
    {
     "name": "stdout",
     "output_type": "stream",
     "text": [
      "Index(['one', 'two'], dtype='object')\n"
     ]
    },
    {
     "data": {
      "text/plain": [
       "Index(['a', 'b', 'c', 'd'], dtype='object')"
      ]
     },
     "execution_count": 95,
     "metadata": {},
     "output_type": "execute_result"
    }
   ],
   "source": [
    "### column names (they are attributes)\n",
    "cols = df.columns\n",
    "print(cols)\n",
    "### get index\n",
    "df.index"
   ]
  },
  {
   "cell_type": "code",
   "execution_count": 91,
   "id": "83482691-7091-48f8-8f23-2b64a9b1f305",
   "metadata": {},
   "outputs": [
    {
     "data": {
      "text/html": [
       "<div>\n",
       "<style scoped>\n",
       "    .dataframe tbody tr th:only-of-type {\n",
       "        vertical-align: middle;\n",
       "    }\n",
       "\n",
       "    .dataframe tbody tr th {\n",
       "        vertical-align: top;\n",
       "    }\n",
       "\n",
       "    .dataframe thead th {\n",
       "        text-align: right;\n",
       "    }\n",
       "</style>\n",
       "<table border=\"1\" class=\"dataframe\">\n",
       "  <thead>\n",
       "    <tr style=\"text-align: right;\">\n",
       "      <th></th>\n",
       "      <th>one</th>\n",
       "      <th>two</th>\n",
       "    </tr>\n",
       "  </thead>\n",
       "  <tbody>\n",
       "    <tr>\n",
       "      <th>a</th>\n",
       "      <td>False</td>\n",
       "      <td>False</td>\n",
       "    </tr>\n",
       "    <tr>\n",
       "      <th>b</th>\n",
       "      <td>False</td>\n",
       "      <td>False</td>\n",
       "    </tr>\n",
       "    <tr>\n",
       "      <th>c</th>\n",
       "      <td>False</td>\n",
       "      <td>False</td>\n",
       "    </tr>\n",
       "    <tr>\n",
       "      <th>d</th>\n",
       "      <td>True</td>\n",
       "      <td>False</td>\n",
       "    </tr>\n",
       "  </tbody>\n",
       "</table>\n",
       "</div>"
      ],
      "text/plain": [
       "     one    two\n",
       "a  False  False\n",
       "b  False  False\n",
       "c  False  False\n",
       "d   True  False"
      ]
     },
     "execution_count": 91,
     "metadata": {},
     "output_type": "execute_result"
    }
   ],
   "source": [
    "### we have a NaN, so...\n",
    "df.isnull()\n",
    "##### note this is different from 41:26 of https://www.youtube.com/watch?v=PcvsOaixUh8&list=PLGLfVvz_LVvQy4mkmEvtFwZGg1S38MUmn&index=10&ab_channel=DerekBanas"
   ]
  },
  {
   "cell_type": "code",
   "execution_count": null,
   "id": "3623f87b-4472-4224-adca-7bfe0cb3a926",
   "metadata": {},
   "outputs": [],
   "source": []
  }
 ],
 "metadata": {
  "kernelspec": {
   "display_name": "venv",
   "language": "python",
   "name": "venv"
  },
  "language_info": {
   "codemirror_mode": {
    "name": "ipython",
    "version": 3
   },
   "file_extension": ".py",
   "mimetype": "text/x-python",
   "name": "python",
   "nbconvert_exporter": "python",
   "pygments_lexer": "ipython3",
   "version": "3.12.0"
  }
 },
 "nbformat": 4,
 "nbformat_minor": 5
}
