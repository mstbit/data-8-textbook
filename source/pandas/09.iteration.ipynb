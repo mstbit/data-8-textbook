{
 "cells": [
  {
   "cell_type": "code",
   "execution_count": 67,
   "id": "d24e2c01-f451-464a-b175-bda9085068c3",
   "metadata": {},
   "outputs": [],
   "source": [
    "import pandas as pd\n",
    "import numpy as np\n",
    "\n",
    "##### iterating through series and dataframes"
   ]
  },
  {
   "cell_type": "code",
   "execution_count": 84,
   "id": "9490d131-57e7-417b-be8a-916f66c689bc",
   "metadata": {},
   "outputs": [
    {
     "name": "stdout",
     "output_type": "stream",
     "text": [
      "This is a series\n",
      "a    0\n",
      "b    1\n",
      "c    2\n",
      "d    3\n",
      "e    4\n",
      "dtype: int64\n",
      "\n",
      "This is a numpy array\n",
      " [[49 24 47]\n",
      " [39 11 23]]\n",
      "\n",
      "This is a dataframe\n",
      "    C   D   E\n",
      "A  49  24  47\n",
      "B  39  11  23\n"
     ]
    }
   ],
   "source": [
    "### let's create a series\n",
    "ser = pd.Series(range(5), index=['a','b','c','d','e'])\n",
    "print('This is a series')\n",
    "print(ser)\n",
    "\n",
    "### now let's create a numpy array with random.randint\n",
    "arr = np.random.randint(10, 50, size=(2,3))\n",
    "print('\\nThis is a numpy array\\n',arr)\n",
    "\n",
    "### how about about a dataframe? ##### note that a df is 2-dimensional\n",
    "df = pd.DataFrame(arr, ['A','B' ], ['C', 'D', 'E'] )\n",
    "print('\\nThis is a dataframe',)\n",
    "print(df)"
   ]
  },
  {
   "cell_type": "code",
   "execution_count": 82,
   "id": "fa1dbf95-2e5d-461a-8dd7-8f99c08d95f6",
   "metadata": {},
   "outputs": [
    {
     "name": "stdout",
     "output_type": "stream",
     "text": [
      "0\n",
      "1\n",
      "2\n",
      "3\n",
      "4\n"
     ]
    }
   ],
   "source": [
    "### iteration through series\n",
    "for col in ser:\n",
    "    print(col)"
   ]
  },
  {
   "cell_type": "code",
   "execution_count": 71,
   "id": "32296160-b071-4cc6-a848-dfdccd0fe2bc",
   "metadata": {},
   "outputs": [
    {
     "name": "stdout",
     "output_type": "stream",
     "text": [
      "\n",
      "label\n",
      "A    34\n",
      "B    48\n",
      "Name: C, dtype: int64\n",
      "\n",
      "label\n",
      "A    16\n",
      "B    16\n",
      "Name: D, dtype: int64\n",
      "\n",
      "label\n",
      "A    14\n",
      "B    35\n",
      "Name: E, dtype: int64\n"
     ]
    }
   ],
   "source": [
    "### iterate over datafraem\n",
    "for label, ser in df.items():\n",
    "    print(f\"\\nlabel\")\n",
    "    print(ser)"
   ]
  },
  {
   "cell_type": "code",
   "execution_count": 68,
   "id": "a1909308-baee-4575-a28c-891e89335e57",
   "metadata": {},
   "outputs": [
    {
     "name": "stdout",
     "output_type": "stream",
     "text": [
      "A\n",
      "C    34\n",
      "D    16\n",
      "E    14\n",
      "Name: A, dtype: int64\n",
      "\n",
      "B\n",
      "C    48\n",
      "D    16\n",
      "E    35\n",
      "Name: B, dtype: int64\n",
      "\n"
     ]
    }
   ],
   "source": [
    "for index, row in df.iterrows():\n",
    "    print(f\"{index}\\n{row}\\n\")"
   ]
  },
  {
   "cell_type": "code",
   "execution_count": 66,
   "id": "9c320058-242d-4436-8572-4c39ba30996a",
   "metadata": {},
   "outputs": [
    {
     "name": "stdout",
     "output_type": "stream",
     "text": [
      "Pandas(Index='A', C=34, D=16, E=14)\n",
      "Pandas(Index='B', C=48, D=16, E=35)\n"
     ]
    }
   ],
   "source": [
    "### tuple\n",
    "for row in df.itertuples():\n",
    "    print(row)"
   ]
  },
  {
   "cell_type": "code",
   "execution_count": null,
   "id": "f53d6447-345a-4ae2-8595-702160f0e674",
   "metadata": {},
   "outputs": [],
   "source": []
  }
 ],
 "metadata": {
  "kernelspec": {
   "display_name": "venv",
   "language": "python",
   "name": "venv"
  },
  "language_info": {
   "codemirror_mode": {
    "name": "ipython",
    "version": 3
   },
   "file_extension": ".py",
   "mimetype": "text/x-python",
   "name": "python",
   "nbconvert_exporter": "python",
   "pygments_lexer": "ipython3",
   "version": "3.12.0"
  }
 },
 "nbformat": 4,
 "nbformat_minor": 5
}
